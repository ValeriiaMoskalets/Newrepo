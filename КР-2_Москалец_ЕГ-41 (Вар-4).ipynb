{
 "cells": [
  {
   "cell_type": "markdown",
   "id": "8153c7ca",
   "metadata": {},
   "source": [
    "# Data Preprocessing"
   ]
  },
  {
   "cell_type": "code",
   "execution_count": 2,
   "id": "0cd8bf80",
   "metadata": {},
   "outputs": [],
   "source": [
    "#!pip install numpy\n",
    "#!pip install matplotlib\n",
    "#!pip install pandas"
   ]
  },
  {
   "cell_type": "code",
   "execution_count": 3,
   "id": "60481a94",
   "metadata": {},
   "outputs": [],
   "source": [
    "import numpy as np\n",
    "import matplotlib.pyplot as plt\n",
    "import pandas as pd"
   ]
  },
  {
   "cell_type": "code",
   "execution_count": 5,
   "id": "03369d0d",
   "metadata": {},
   "outputs": [],
   "source": [
    "#!pip install sklearn\n",
    "#!pip install openpyxl"
   ]
  },
  {
   "cell_type": "code",
   "execution_count": 6,
   "id": "7ea89775",
   "metadata": {},
   "outputs": [],
   "source": [
    "df = pd.read_excel('КР-2.xlsx', sheet_name='Вар (4)')"
   ]
  },
  {
   "cell_type": "code",
   "execution_count": 7,
   "id": "8de3b281",
   "metadata": {},
   "outputs": [
    {
     "data": {
      "text/html": [
       "<div>\n",
       "<style scoped>\n",
       "    .dataframe tbody tr th:only-of-type {\n",
       "        vertical-align: middle;\n",
       "    }\n",
       "\n",
       "    .dataframe tbody tr th {\n",
       "        vertical-align: top;\n",
       "    }\n",
       "\n",
       "    .dataframe thead th {\n",
       "        text-align: right;\n",
       "    }\n",
       "</style>\n",
       "<table border=\"1\" class=\"dataframe\">\n",
       "  <thead>\n",
       "    <tr style=\"text-align: right;\">\n",
       "      <th></th>\n",
       "      <th>Успех</th>\n",
       "      <th>Торговельна_площа_кв_м</th>\n",
       "      <th>Этаж</th>\n",
       "      <th>Количество_касс</th>\n",
       "      <th>Тип</th>\n",
       "      <th>Рейтинг_в_гуглі</th>\n",
       "      <th>Количество_чеков</th>\n",
       "      <th>Средний_чек</th>\n",
       "      <th>Населення</th>\n",
       "      <th>Середній_дохід_населення</th>\n",
       "      <th>Спец_мясо</th>\n",
       "      <th>Спец_сир</th>\n",
       "      <th>Спец_поб_хімія</th>\n",
       "      <th>Супермаркет</th>\n",
       "      <th>Магазин_біля_дому</th>\n",
       "    </tr>\n",
       "  </thead>\n",
       "  <tbody>\n",
       "    <tr>\n",
       "      <th>0</th>\n",
       "      <td>не успішний</td>\n",
       "      <td>9.00</td>\n",
       "      <td>1</td>\n",
       "      <td>1</td>\n",
       "      <td>старий</td>\n",
       "      <td>3.0</td>\n",
       "      <td>659.0</td>\n",
       "      <td>76.85</td>\n",
       "      <td>108.0</td>\n",
       "      <td>14910.0</td>\n",
       "      <td>1</td>\n",
       "      <td>1</td>\n",
       "      <td>0</td>\n",
       "      <td>1</td>\n",
       "      <td>1</td>\n",
       "    </tr>\n",
       "    <tr>\n",
       "      <th>1</th>\n",
       "      <td>не успішний</td>\n",
       "      <td>22.00</td>\n",
       "      <td>1</td>\n",
       "      <td>1</td>\n",
       "      <td>старий</td>\n",
       "      <td>4.1</td>\n",
       "      <td>1518.0</td>\n",
       "      <td>84.86</td>\n",
       "      <td>750.0</td>\n",
       "      <td>9030.0</td>\n",
       "      <td>0</td>\n",
       "      <td>0</td>\n",
       "      <td>0</td>\n",
       "      <td>1</td>\n",
       "      <td>1</td>\n",
       "    </tr>\n",
       "    <tr>\n",
       "      <th>2</th>\n",
       "      <td>не успішний</td>\n",
       "      <td>13.00</td>\n",
       "      <td>1</td>\n",
       "      <td>1</td>\n",
       "      <td>старий</td>\n",
       "      <td>3.0</td>\n",
       "      <td>476.0</td>\n",
       "      <td>112.02</td>\n",
       "      <td>0.0</td>\n",
       "      <td>9030.0</td>\n",
       "      <td>0</td>\n",
       "      <td>0</td>\n",
       "      <td>0</td>\n",
       "      <td>0</td>\n",
       "      <td>0</td>\n",
       "    </tr>\n",
       "    <tr>\n",
       "      <th>3</th>\n",
       "      <td>не успішний</td>\n",
       "      <td>18.00</td>\n",
       "      <td>1</td>\n",
       "      <td>1</td>\n",
       "      <td>старий</td>\n",
       "      <td>3.0</td>\n",
       "      <td>1310.0</td>\n",
       "      <td>119.80</td>\n",
       "      <td>0.0</td>\n",
       "      <td>13930.0</td>\n",
       "      <td>1</td>\n",
       "      <td>0</td>\n",
       "      <td>0</td>\n",
       "      <td>1</td>\n",
       "      <td>1</td>\n",
       "    </tr>\n",
       "    <tr>\n",
       "      <th>4</th>\n",
       "      <td>не успішний</td>\n",
       "      <td>25.00</td>\n",
       "      <td>1</td>\n",
       "      <td>1</td>\n",
       "      <td>новий</td>\n",
       "      <td>4.0</td>\n",
       "      <td>2029.0</td>\n",
       "      <td>94.88</td>\n",
       "      <td>0.0</td>\n",
       "      <td>14560.0</td>\n",
       "      <td>0</td>\n",
       "      <td>0</td>\n",
       "      <td>0</td>\n",
       "      <td>0</td>\n",
       "      <td>0</td>\n",
       "    </tr>\n",
       "    <tr>\n",
       "      <th>...</th>\n",
       "      <td>...</td>\n",
       "      <td>...</td>\n",
       "      <td>...</td>\n",
       "      <td>...</td>\n",
       "      <td>...</td>\n",
       "      <td>...</td>\n",
       "      <td>...</td>\n",
       "      <td>...</td>\n",
       "      <td>...</td>\n",
       "      <td>...</td>\n",
       "      <td>...</td>\n",
       "      <td>...</td>\n",
       "      <td>...</td>\n",
       "      <td>...</td>\n",
       "      <td>...</td>\n",
       "    </tr>\n",
       "    <tr>\n",
       "      <th>64</th>\n",
       "      <td>успішний</td>\n",
       "      <td>40.78</td>\n",
       "      <td>1</td>\n",
       "      <td>2</td>\n",
       "      <td>новий</td>\n",
       "      <td>4.0</td>\n",
       "      <td>6884.0</td>\n",
       "      <td>107.37</td>\n",
       "      <td>963.0</td>\n",
       "      <td>9800.0</td>\n",
       "      <td>0</td>\n",
       "      <td>0</td>\n",
       "      <td>1</td>\n",
       "      <td>0</td>\n",
       "      <td>0</td>\n",
       "    </tr>\n",
       "    <tr>\n",
       "      <th>65</th>\n",
       "      <td>успішний</td>\n",
       "      <td>21.50</td>\n",
       "      <td>1</td>\n",
       "      <td>1</td>\n",
       "      <td>новий</td>\n",
       "      <td>2.3</td>\n",
       "      <td>4721.0</td>\n",
       "      <td>89.13</td>\n",
       "      <td>0.0</td>\n",
       "      <td>12600.0</td>\n",
       "      <td>1</td>\n",
       "      <td>1</td>\n",
       "      <td>1</td>\n",
       "      <td>0</td>\n",
       "      <td>0</td>\n",
       "    </tr>\n",
       "    <tr>\n",
       "      <th>66</th>\n",
       "      <td>не успішний</td>\n",
       "      <td>115.23</td>\n",
       "      <td>1</td>\n",
       "      <td>1</td>\n",
       "      <td>старий</td>\n",
       "      <td>3.0</td>\n",
       "      <td>3286.0</td>\n",
       "      <td>105.62</td>\n",
       "      <td>315.0</td>\n",
       "      <td>10570.0</td>\n",
       "      <td>0</td>\n",
       "      <td>0</td>\n",
       "      <td>0</td>\n",
       "      <td>0</td>\n",
       "      <td>1</td>\n",
       "    </tr>\n",
       "    <tr>\n",
       "      <th>67</th>\n",
       "      <td>не успішний</td>\n",
       "      <td>34.80</td>\n",
       "      <td>1</td>\n",
       "      <td>2</td>\n",
       "      <td>новий</td>\n",
       "      <td>4.3</td>\n",
       "      <td>3963.0</td>\n",
       "      <td>168.07</td>\n",
       "      <td>0.0</td>\n",
       "      <td>12460.0</td>\n",
       "      <td>1</td>\n",
       "      <td>1</td>\n",
       "      <td>0</td>\n",
       "      <td>0</td>\n",
       "      <td>0</td>\n",
       "    </tr>\n",
       "    <tr>\n",
       "      <th>68</th>\n",
       "      <td>успішний</td>\n",
       "      <td>22.00</td>\n",
       "      <td>1</td>\n",
       "      <td>1</td>\n",
       "      <td>новий</td>\n",
       "      <td>4.9</td>\n",
       "      <td>4200.0</td>\n",
       "      <td>101.73</td>\n",
       "      <td>678.0</td>\n",
       "      <td>10430.0</td>\n",
       "      <td>1</td>\n",
       "      <td>1</td>\n",
       "      <td>0</td>\n",
       "      <td>0</td>\n",
       "      <td>0</td>\n",
       "    </tr>\n",
       "  </tbody>\n",
       "</table>\n",
       "<p>69 rows × 15 columns</p>\n",
       "</div>"
      ],
      "text/plain": [
       "          Успех  Торговельна_площа_кв_м  Этаж  Количество_касс     Тип  \\\n",
       "0   не успішний                    9.00     1                1  старий   \n",
       "1   не успішний                   22.00     1                1  старий   \n",
       "2   не успішний                   13.00     1                1  старий   \n",
       "3   не успішний                   18.00     1                1  старий   \n",
       "4   не успішний                   25.00     1                1   новий   \n",
       "..          ...                     ...   ...              ...     ...   \n",
       "64     успішний                   40.78     1                2   новий   \n",
       "65     успішний                   21.50     1                1   новий   \n",
       "66  не успішний                  115.23     1                1  старий   \n",
       "67  не успішний                   34.80     1                2   новий   \n",
       "68     успішний                   22.00     1                1   новий   \n",
       "\n",
       "    Рейтинг_в_гуглі  Количество_чеков  Средний_чек  Населення  \\\n",
       "0               3.0             659.0        76.85      108.0   \n",
       "1               4.1            1518.0        84.86      750.0   \n",
       "2               3.0             476.0       112.02        0.0   \n",
       "3               3.0            1310.0       119.80        0.0   \n",
       "4               4.0            2029.0        94.88        0.0   \n",
       "..              ...               ...          ...        ...   \n",
       "64              4.0            6884.0       107.37      963.0   \n",
       "65              2.3            4721.0        89.13        0.0   \n",
       "66              3.0            3286.0       105.62      315.0   \n",
       "67              4.3            3963.0       168.07        0.0   \n",
       "68              4.9            4200.0       101.73      678.0   \n",
       "\n",
       "    Середній_дохід_населення  Спец_мясо  Спец_сир  Спец_поб_хімія  \\\n",
       "0                    14910.0          1         1               0   \n",
       "1                     9030.0          0         0               0   \n",
       "2                     9030.0          0         0               0   \n",
       "3                    13930.0          1         0               0   \n",
       "4                    14560.0          0         0               0   \n",
       "..                       ...        ...       ...             ...   \n",
       "64                    9800.0          0         0               1   \n",
       "65                   12600.0          1         1               1   \n",
       "66                   10570.0          0         0               0   \n",
       "67                   12460.0          1         1               0   \n",
       "68                   10430.0          1         1               0   \n",
       "\n",
       "    Супермаркет  Магазин_біля_дому  \n",
       "0             1                  1  \n",
       "1             1                  1  \n",
       "2             0                  0  \n",
       "3             1                  1  \n",
       "4             0                  0  \n",
       "..          ...                ...  \n",
       "64            0                  0  \n",
       "65            0                  0  \n",
       "66            0                  1  \n",
       "67            0                  0  \n",
       "68            0                  0  \n",
       "\n",
       "[69 rows x 15 columns]"
      ]
     },
     "execution_count": 7,
     "metadata": {},
     "output_type": "execute_result"
    }
   ],
   "source": [
    "df"
   ]
  },
  {
   "cell_type": "code",
   "execution_count": 8,
   "id": "dd4e9447",
   "metadata": {},
   "outputs": [],
   "source": [
    "df = df.drop(['Этаж'], axis='columns', inplace=False)"
   ]
  },
  {
   "cell_type": "code",
   "execution_count": 9,
   "id": "3f8fe2fa",
   "metadata": {},
   "outputs": [
    {
     "data": {
      "text/html": [
       "<div>\n",
       "<style scoped>\n",
       "    .dataframe tbody tr th:only-of-type {\n",
       "        vertical-align: middle;\n",
       "    }\n",
       "\n",
       "    .dataframe tbody tr th {\n",
       "        vertical-align: top;\n",
       "    }\n",
       "\n",
       "    .dataframe thead th {\n",
       "        text-align: right;\n",
       "    }\n",
       "</style>\n",
       "<table border=\"1\" class=\"dataframe\">\n",
       "  <thead>\n",
       "    <tr style=\"text-align: right;\">\n",
       "      <th></th>\n",
       "      <th>Успех</th>\n",
       "      <th>Торговельна_площа_кв_м</th>\n",
       "      <th>Количество_касс</th>\n",
       "      <th>Тип</th>\n",
       "      <th>Рейтинг_в_гуглі</th>\n",
       "      <th>Количество_чеков</th>\n",
       "      <th>Средний_чек</th>\n",
       "      <th>Населення</th>\n",
       "      <th>Середній_дохід_населення</th>\n",
       "      <th>Спец_мясо</th>\n",
       "      <th>Спец_сир</th>\n",
       "      <th>Спец_поб_хімія</th>\n",
       "      <th>Супермаркет</th>\n",
       "      <th>Магазин_біля_дому</th>\n",
       "    </tr>\n",
       "  </thead>\n",
       "  <tbody>\n",
       "    <tr>\n",
       "      <th>0</th>\n",
       "      <td>не успішний</td>\n",
       "      <td>9.0</td>\n",
       "      <td>1</td>\n",
       "      <td>старий</td>\n",
       "      <td>3.0</td>\n",
       "      <td>659.0</td>\n",
       "      <td>76.85</td>\n",
       "      <td>108.0</td>\n",
       "      <td>14910.0</td>\n",
       "      <td>1</td>\n",
       "      <td>1</td>\n",
       "      <td>0</td>\n",
       "      <td>1</td>\n",
       "      <td>1</td>\n",
       "    </tr>\n",
       "    <tr>\n",
       "      <th>1</th>\n",
       "      <td>не успішний</td>\n",
       "      <td>22.0</td>\n",
       "      <td>1</td>\n",
       "      <td>старий</td>\n",
       "      <td>4.1</td>\n",
       "      <td>1518.0</td>\n",
       "      <td>84.86</td>\n",
       "      <td>750.0</td>\n",
       "      <td>9030.0</td>\n",
       "      <td>0</td>\n",
       "      <td>0</td>\n",
       "      <td>0</td>\n",
       "      <td>1</td>\n",
       "      <td>1</td>\n",
       "    </tr>\n",
       "    <tr>\n",
       "      <th>2</th>\n",
       "      <td>не успішний</td>\n",
       "      <td>13.0</td>\n",
       "      <td>1</td>\n",
       "      <td>старий</td>\n",
       "      <td>3.0</td>\n",
       "      <td>476.0</td>\n",
       "      <td>112.02</td>\n",
       "      <td>0.0</td>\n",
       "      <td>9030.0</td>\n",
       "      <td>0</td>\n",
       "      <td>0</td>\n",
       "      <td>0</td>\n",
       "      <td>0</td>\n",
       "      <td>0</td>\n",
       "    </tr>\n",
       "    <tr>\n",
       "      <th>3</th>\n",
       "      <td>не успішний</td>\n",
       "      <td>18.0</td>\n",
       "      <td>1</td>\n",
       "      <td>старий</td>\n",
       "      <td>3.0</td>\n",
       "      <td>1310.0</td>\n",
       "      <td>119.80</td>\n",
       "      <td>0.0</td>\n",
       "      <td>13930.0</td>\n",
       "      <td>1</td>\n",
       "      <td>0</td>\n",
       "      <td>0</td>\n",
       "      <td>1</td>\n",
       "      <td>1</td>\n",
       "    </tr>\n",
       "    <tr>\n",
       "      <th>4</th>\n",
       "      <td>не успішний</td>\n",
       "      <td>25.0</td>\n",
       "      <td>1</td>\n",
       "      <td>новий</td>\n",
       "      <td>4.0</td>\n",
       "      <td>2029.0</td>\n",
       "      <td>94.88</td>\n",
       "      <td>0.0</td>\n",
       "      <td>14560.0</td>\n",
       "      <td>0</td>\n",
       "      <td>0</td>\n",
       "      <td>0</td>\n",
       "      <td>0</td>\n",
       "      <td>0</td>\n",
       "    </tr>\n",
       "  </tbody>\n",
       "</table>\n",
       "</div>"
      ],
      "text/plain": [
       "         Успех  Торговельна_площа_кв_м  Количество_касс     Тип  \\\n",
       "0  не успішний                     9.0                1  старий   \n",
       "1  не успішний                    22.0                1  старий   \n",
       "2  не успішний                    13.0                1  старий   \n",
       "3  не успішний                    18.0                1  старий   \n",
       "4  не успішний                    25.0                1   новий   \n",
       "\n",
       "   Рейтинг_в_гуглі  Количество_чеков  Средний_чек  Населення  \\\n",
       "0              3.0             659.0        76.85      108.0   \n",
       "1              4.1            1518.0        84.86      750.0   \n",
       "2              3.0             476.0       112.02        0.0   \n",
       "3              3.0            1310.0       119.80        0.0   \n",
       "4              4.0            2029.0        94.88        0.0   \n",
       "\n",
       "   Середній_дохід_населення  Спец_мясо  Спец_сир  Спец_поб_хімія  Супермаркет  \\\n",
       "0                   14910.0          1         1               0            1   \n",
       "1                    9030.0          0         0               0            1   \n",
       "2                    9030.0          0         0               0            0   \n",
       "3                   13930.0          1         0               0            1   \n",
       "4                   14560.0          0         0               0            0   \n",
       "\n",
       "   Магазин_біля_дому  \n",
       "0                  1  \n",
       "1                  1  \n",
       "2                  0  \n",
       "3                  1  \n",
       "4                  0  "
      ]
     },
     "execution_count": 9,
     "metadata": {},
     "output_type": "execute_result"
    }
   ],
   "source": [
    "df.head(5)"
   ]
  },
  {
   "cell_type": "code",
   "execution_count": 10,
   "id": "53f6108a",
   "metadata": {},
   "outputs": [
    {
     "name": "stdout",
     "output_type": "stream",
     "text": [
      "<class 'pandas.core.frame.DataFrame'>\n",
      "RangeIndex: 69 entries, 0 to 68\n",
      "Data columns (total 14 columns):\n",
      " #   Column                    Non-Null Count  Dtype  \n",
      "---  ------                    --------------  -----  \n",
      " 0   Успех                     69 non-null     object \n",
      " 1   Торговельна_площа_кв_м    69 non-null     float64\n",
      " 2   Количество_касс           69 non-null     int64  \n",
      " 3   Тип                       69 non-null     object \n",
      " 4   Рейтинг_в_гуглі           69 non-null     float64\n",
      " 5   Количество_чеков          62 non-null     float64\n",
      " 6   Средний_чек               62 non-null     float64\n",
      " 7   Населення                 64 non-null     float64\n",
      " 8   Середній_дохід_населення  64 non-null     float64\n",
      " 9   Спец_мясо                 69 non-null     int64  \n",
      " 10  Спец_сир                  69 non-null     int64  \n",
      " 11  Спец_поб_хімія            69 non-null     int64  \n",
      " 12  Супермаркет               69 non-null     int64  \n",
      " 13  Магазин_біля_дому         69 non-null     int64  \n",
      "dtypes: float64(6), int64(6), object(2)\n",
      "memory usage: 7.1+ KB\n"
     ]
    }
   ],
   "source": [
    "df.info()"
   ]
  },
  {
   "cell_type": "code",
   "execution_count": 11,
   "id": "e8791498",
   "metadata": {},
   "outputs": [
    {
     "data": {
      "text/plain": [
       "<AxesSubplot:ylabel='Frequency'>"
      ]
     },
     "execution_count": 11,
     "metadata": {},
     "output_type": "execute_result"
    },
    {
     "data": {
      "image/png": "[encoded data removed]",
      "text/plain": [
       "<Figure size 432x288 with 1 Axes>"
      ]
     },
     "metadata": {
      "needs_background": "light"
     },
     "output_type": "display_data"
    }
   ],
   "source": [
    "# Feature distribution\n",
    "df['Торговельна_площа_кв_м'].plot(kind='hist')"
   ]
  },
  {
   "cell_type": "code",
   "execution_count": 12,
   "id": "4e5b810f",
   "metadata": {},
   "outputs": [
    {
     "data": {
      "text/plain": [
       "<AxesSubplot:ylabel='Frequency'>"
      ]
     },
     "execution_count": 12,
     "metadata": {},
     "output_type": "execute_result"
    },
    {
     "data": {
      "image/png": "[encoded data removed]",
      "text/plain": [
       "<Figure size 432x288 with 1 Axes>"
      ]
     },
     "metadata": {
      "needs_background": "light"
     },
     "output_type": "display_data"
    }
   ],
   "source": [
    "# Feature distribution\n",
    "df['Количество_касс'].plot(kind='hist')"
   ]
  },
  {
   "cell_type": "code",
   "execution_count": 13,
   "id": "aa6b3cb0",
   "metadata": {},
   "outputs": [
    {
     "data": {
      "text/plain": [
       "<AxesSubplot:ylabel='Frequency'>"
      ]
     },
     "execution_count": 13,
     "metadata": {},
     "output_type": "execute_result"
    },
    {
     "data": {
      "image/png": "[encoded data removed]",
      "text/plain": [
       "<Figure size 432x288 with 1 Axes>"
      ]
     },
     "metadata": {
      "needs_background": "light"
     },
     "output_type": "display_data"
    }
   ],
   "source": [
    "# Feature distribution\n",
    "df['Рейтинг_в_гуглі'].plot(kind='hist')"
   ]
  },
  {
   "cell_type": "code",
   "execution_count": 14,
   "id": "49369e8c",
   "metadata": {},
   "outputs": [
    {
     "data": {
      "text/plain": [
       "<AxesSubplot:ylabel='Frequency'>"
      ]
     },
     "execution_count": 14,
     "metadata": {},
     "output_type": "execute_result"
    },
    {
     "data": {
      "image/png": "[encoded data removed]",
      "text/plain": [
       "<Figure size 432x288 with 1 Axes>"
      ]
     },
     "metadata": {
      "needs_background": "light"
     },
     "output_type": "display_data"
    }
   ],
   "source": [
    "# Feature distribution\n",
    "df['Количество_чеков'].plot(kind='hist')"
   ]
  },
  {
   "cell_type": "code",
   "execution_count": 15,
   "id": "a20e12d6",
   "metadata": {},
   "outputs": [
    {
     "data": {
      "text/plain": [
       "<AxesSubplot:ylabel='Frequency'>"
      ]
     },
     "execution_count": 15,
     "metadata": {},
     "output_type": "execute_result"
    },
    {
     "data": {
      "image/png": "[encoded data removed]",
      "text/plain": [
       "<Figure size 432x288 with 1 Axes>"
      ]
     },
     "metadata": {
      "needs_background": "light"
     },
     "output_type": "display_data"
    }
   ],
   "source": [
    "# Feature distribution\n",
    "df['Средний_чек'].plot(kind='hist')"
   ]
  },
  {
   "cell_type": "code",
   "execution_count": 16,
   "id": "a455d2e2",
   "metadata": {},
   "outputs": [
    {
     "data": {
      "text/plain": [
       "<AxesSubplot:ylabel='Frequency'>"
      ]
     },
     "execution_count": 16,
     "metadata": {},
     "output_type": "execute_result"
    },
    {
     "data": {
      "image/png": "[encoded data removed]",
      "text/plain": [
       "<Figure size 432x288 with 1 Axes>"
      ]
     },
     "metadata": {
      "needs_background": "light"
     },
     "output_type": "display_data"
    }
   ],
   "source": [
    "# Feature distribution\n",
    "df['Населення'].plot(kind='hist')"
   ]
  },
  {
   "cell_type": "code",
   "execution_count": 17,
   "id": "d50381d0",
   "metadata": {},
   "outputs": [
    {
     "data": {
      "text/plain": [
       "<AxesSubplot:ylabel='Frequency'>"
      ]
     },
     "execution_count": 17,
     "metadata": {},
     "output_type": "execute_result"
    },
    {
     "data": {
      "image/png": "[encoded data removed]",
      "text/plain": [
       "<Figure size 432x288 with 1 Axes>"
      ]
     },
     "metadata": {
      "needs_background": "light"
     },
     "output_type": "display_data"
    }
   ],
   "source": [
    "# Feature distribution\n",
    "df['Середній_дохід_населення'].plot(kind='hist')\n",
    "# Не меньше чем 7200"
   ]
  },
  {
   "cell_type": "code",
   "execution_count": 18,
   "id": "930f3052",
   "metadata": {},
   "outputs": [
    {
     "data": {
      "text/html": [
       "<div>\n",
       "<style scoped>\n",
       "    .dataframe tbody tr th:only-of-type {\n",
       "        vertical-align: middle;\n",
       "    }\n",
       "\n",
       "    .dataframe tbody tr th {\n",
       "        vertical-align: top;\n",
       "    }\n",
       "\n",
       "    .dataframe thead th {\n",
       "        text-align: right;\n",
       "    }\n",
       "</style>\n",
       "<table border=\"1\" class=\"dataframe\">\n",
       "  <thead>\n",
       "    <tr style=\"text-align: right;\">\n",
       "      <th></th>\n",
       "      <th>Торговельна_площа_кв_м</th>\n",
       "      <th>Количество_касс</th>\n",
       "      <th>Рейтинг_в_гуглі</th>\n",
       "      <th>Количество_чеков</th>\n",
       "      <th>Средний_чек</th>\n",
       "      <th>Населення</th>\n",
       "      <th>Середній_дохід_населення</th>\n",
       "      <th>Спец_мясо</th>\n",
       "      <th>Спец_сир</th>\n",
       "      <th>Спец_поб_хімія</th>\n",
       "      <th>Супермаркет</th>\n",
       "      <th>Магазин_біля_дому</th>\n",
       "    </tr>\n",
       "  </thead>\n",
       "  <tbody>\n",
       "    <tr>\n",
       "      <th>count</th>\n",
       "      <td>69.000000</td>\n",
       "      <td>69.000000</td>\n",
       "      <td>69.000000</td>\n",
       "      <td>62.000000</td>\n",
       "      <td>62.000000</td>\n",
       "      <td>64.000000</td>\n",
       "      <td>64.000000</td>\n",
       "      <td>69.000000</td>\n",
       "      <td>69.000000</td>\n",
       "      <td>69.000000</td>\n",
       "      <td>69.000000</td>\n",
       "      <td>69.000000</td>\n",
       "    </tr>\n",
       "    <tr>\n",
       "      <th>mean</th>\n",
       "      <td>34.872145</td>\n",
       "      <td>1.231884</td>\n",
       "      <td>3.810145</td>\n",
       "      <td>4079.741935</td>\n",
       "      <td>95.897581</td>\n",
       "      <td>295.953125</td>\n",
       "      <td>11418.593750</td>\n",
       "      <td>0.289855</td>\n",
       "      <td>0.231884</td>\n",
       "      <td>0.246377</td>\n",
       "      <td>0.202899</td>\n",
       "      <td>0.304348</td>\n",
       "    </tr>\n",
       "    <tr>\n",
       "      <th>std</th>\n",
       "      <td>21.704293</td>\n",
       "      <td>0.458416</td>\n",
       "      <td>0.695605</td>\n",
       "      <td>2334.254653</td>\n",
       "      <td>19.192685</td>\n",
       "      <td>322.552785</td>\n",
       "      <td>2528.015011</td>\n",
       "      <td>0.457019</td>\n",
       "      <td>0.425127</td>\n",
       "      <td>0.434057</td>\n",
       "      <td>0.405104</td>\n",
       "      <td>0.463502</td>\n",
       "    </tr>\n",
       "    <tr>\n",
       "      <th>min</th>\n",
       "      <td>4.000000</td>\n",
       "      <td>1.000000</td>\n",
       "      <td>1.800000</td>\n",
       "      <td>476.000000</td>\n",
       "      <td>65.270000</td>\n",
       "      <td>0.000000</td>\n",
       "      <td>0.000000</td>\n",
       "      <td>0.000000</td>\n",
       "      <td>0.000000</td>\n",
       "      <td>0.000000</td>\n",
       "      <td>0.000000</td>\n",
       "      <td>0.000000</td>\n",
       "    </tr>\n",
       "    <tr>\n",
       "      <th>25%</th>\n",
       "      <td>22.000000</td>\n",
       "      <td>1.000000</td>\n",
       "      <td>3.000000</td>\n",
       "      <td>2057.250000</td>\n",
       "      <td>82.420000</td>\n",
       "      <td>0.000000</td>\n",
       "      <td>10412.500000</td>\n",
       "      <td>0.000000</td>\n",
       "      <td>0.000000</td>\n",
       "      <td>0.000000</td>\n",
       "      <td>0.000000</td>\n",
       "      <td>0.000000</td>\n",
       "    </tr>\n",
       "    <tr>\n",
       "      <th>50%</th>\n",
       "      <td>27.500000</td>\n",
       "      <td>1.000000</td>\n",
       "      <td>4.000000</td>\n",
       "      <td>3876.500000</td>\n",
       "      <td>93.855000</td>\n",
       "      <td>179.500000</td>\n",
       "      <td>11515.000000</td>\n",
       "      <td>0.000000</td>\n",
       "      <td>0.000000</td>\n",
       "      <td>0.000000</td>\n",
       "      <td>0.000000</td>\n",
       "      <td>0.000000</td>\n",
       "    </tr>\n",
       "    <tr>\n",
       "      <th>75%</th>\n",
       "      <td>41.000000</td>\n",
       "      <td>1.000000</td>\n",
       "      <td>4.300000</td>\n",
       "      <td>5214.250000</td>\n",
       "      <td>102.787500</td>\n",
       "      <td>564.000000</td>\n",
       "      <td>12915.000000</td>\n",
       "      <td>1.000000</td>\n",
       "      <td>0.000000</td>\n",
       "      <td>0.000000</td>\n",
       "      <td>0.000000</td>\n",
       "      <td>1.000000</td>\n",
       "    </tr>\n",
       "    <tr>\n",
       "      <th>max</th>\n",
       "      <td>119.300000</td>\n",
       "      <td>3.000000</td>\n",
       "      <td>5.000000</td>\n",
       "      <td>9687.000000</td>\n",
       "      <td>168.070000</td>\n",
       "      <td>963.000000</td>\n",
       "      <td>15470.000000</td>\n",
       "      <td>1.000000</td>\n",
       "      <td>1.000000</td>\n",
       "      <td>1.000000</td>\n",
       "      <td>1.000000</td>\n",
       "      <td>1.000000</td>\n",
       "    </tr>\n",
       "  </tbody>\n",
       "</table>\n",
       "</div>"
      ],
      "text/plain": [
       "       Торговельна_площа_кв_м  Количество_касс  Рейтинг_в_гуглі  \\\n",
       "count               69.000000        69.000000        69.000000   \n",
       "mean                34.872145         1.231884         3.810145   \n",
       "std                 21.704293         0.458416         0.695605   \n",
       "min                  4.000000         1.000000         1.800000   \n",
       "25%                 22.000000         1.000000         3.000000   \n",
       "50%                 27.500000         1.000000         4.000000   \n",
       "75%                 41.000000         1.000000         4.300000   \n",
       "max                119.300000         3.000000         5.000000   \n",
       "\n",
       "       Количество_чеков  Средний_чек   Населення  Середній_дохід_населення  \\\n",
       "count         62.000000    62.000000   64.000000                 64.000000   \n",
       "mean        4079.741935    95.897581  295.953125              11418.593750   \n",
       "std         2334.254653    19.192685  322.552785               2528.015011   \n",
       "min          476.000000    65.270000    0.000000                  0.000000   \n",
       "25%         2057.250000    82.420000    0.000000              10412.500000   \n",
       "50%         3876.500000    93.855000  179.500000              11515.000000   \n",
       "75%         5214.250000   102.787500  564.000000              12915.000000   \n",
       "max         9687.000000   168.070000  963.000000              15470.000000   \n",
       "\n",
       "       Спец_мясо   Спец_сир  Спец_поб_хімія  Супермаркет  Магазин_біля_дому  \n",
       "count  69.000000  69.000000       69.000000    69.000000          69.000000  \n",
       "mean    0.289855   0.231884        0.246377     0.202899           0.304348  \n",
       "std     0.457019   0.425127        0.434057     0.405104           0.463502  \n",
       "min     0.000000   0.000000        0.000000     0.000000           0.000000  \n",
       "25%     0.000000   0.000000        0.000000     0.000000           0.000000  \n",
       "50%     0.000000   0.000000        0.000000     0.000000           0.000000  \n",
       "75%     1.000000   0.000000        0.000000     0.000000           1.000000  \n",
       "max     1.000000   1.000000        1.000000     1.000000           1.000000  "
      ]
     },
     "execution_count": 18,
     "metadata": {},
     "output_type": "execute_result"
    }
   ],
   "source": [
    "df.describe()"
   ]
  },
  {
   "cell_type": "code",
   "execution_count": 19,
   "id": "a9901ee0",
   "metadata": {},
   "outputs": [
    {
     "data": {
      "text/html": [
       "<div>\n",
       "<style scoped>\n",
       "    .dataframe tbody tr th:only-of-type {\n",
       "        vertical-align: middle;\n",
       "    }\n",
       "\n",
       "    .dataframe tbody tr th {\n",
       "        vertical-align: top;\n",
       "    }\n",
       "\n",
       "    .dataframe thead th {\n",
       "        text-align: right;\n",
       "    }\n",
       "</style>\n",
       "<table border=\"1\" class=\"dataframe\">\n",
       "  <thead>\n",
       "    <tr style=\"text-align: right;\">\n",
       "      <th></th>\n",
       "      <th>Торговельна_площа_кв_м</th>\n",
       "      <th>Количество_касс</th>\n",
       "      <th>Рейтинг_в_гуглі</th>\n",
       "      <th>Количество_чеков</th>\n",
       "      <th>Средний_чек</th>\n",
       "      <th>Населення</th>\n",
       "      <th>Середній_дохід_населення</th>\n",
       "      <th>Спец_мясо</th>\n",
       "      <th>Спец_сир</th>\n",
       "      <th>Спец_поб_хімія</th>\n",
       "      <th>Супермаркет</th>\n",
       "      <th>Магазин_біля_дому</th>\n",
       "    </tr>\n",
       "  </thead>\n",
       "  <tbody>\n",
       "    <tr>\n",
       "      <th>count</th>\n",
       "      <td>67.000000</td>\n",
       "      <td>67.000000</td>\n",
       "      <td>67.000000</td>\n",
       "      <td>60.000000</td>\n",
       "      <td>60.000000</td>\n",
       "      <td>62.000000</td>\n",
       "      <td>62.000000</td>\n",
       "      <td>67.000000</td>\n",
       "      <td>67.000000</td>\n",
       "      <td>67.000000</td>\n",
       "      <td>67.000000</td>\n",
       "      <td>67.000000</td>\n",
       "    </tr>\n",
       "    <tr>\n",
       "      <th>mean</th>\n",
       "      <td>33.738478</td>\n",
       "      <td>1.223881</td>\n",
       "      <td>3.792537</td>\n",
       "      <td>4033.683333</td>\n",
       "      <td>95.334667</td>\n",
       "      <td>304.370968</td>\n",
       "      <td>11765.645161</td>\n",
       "      <td>0.283582</td>\n",
       "      <td>0.223881</td>\n",
       "      <td>0.238806</td>\n",
       "      <td>0.208955</td>\n",
       "      <td>0.313433</td>\n",
       "    </tr>\n",
       "    <tr>\n",
       "      <th>std</th>\n",
       "      <td>19.363838</td>\n",
       "      <td>0.454636</td>\n",
       "      <td>0.698117</td>\n",
       "      <td>2347.363674</td>\n",
       "      <td>19.003842</td>\n",
       "      <td>324.201477</td>\n",
       "      <td>1633.615743</td>\n",
       "      <td>0.454138</td>\n",
       "      <td>0.419989</td>\n",
       "      <td>0.429572</td>\n",
       "      <td>0.409631</td>\n",
       "      <td>0.467390</td>\n",
       "    </tr>\n",
       "    <tr>\n",
       "      <th>min</th>\n",
       "      <td>4.000000</td>\n",
       "      <td>1.000000</td>\n",
       "      <td>1.800000</td>\n",
       "      <td>476.000000</td>\n",
       "      <td>65.270000</td>\n",
       "      <td>0.000000</td>\n",
       "      <td>9030.000000</td>\n",
       "      <td>0.000000</td>\n",
       "      <td>0.000000</td>\n",
       "      <td>0.000000</td>\n",
       "      <td>0.000000</td>\n",
       "      <td>0.000000</td>\n",
       "    </tr>\n",
       "    <tr>\n",
       "      <th>25%</th>\n",
       "      <td>21.750000</td>\n",
       "      <td>1.000000</td>\n",
       "      <td>3.000000</td>\n",
       "      <td>2047.750000</td>\n",
       "      <td>82.032500</td>\n",
       "      <td>0.000000</td>\n",
       "      <td>10570.000000</td>\n",
       "      <td>0.000000</td>\n",
       "      <td>0.000000</td>\n",
       "      <td>0.000000</td>\n",
       "      <td>0.000000</td>\n",
       "      <td>0.000000</td>\n",
       "    </tr>\n",
       "    <tr>\n",
       "      <th>50%</th>\n",
       "      <td>27.500000</td>\n",
       "      <td>1.000000</td>\n",
       "      <td>4.000000</td>\n",
       "      <td>3687.500000</td>\n",
       "      <td>92.645000</td>\n",
       "      <td>218.000000</td>\n",
       "      <td>11550.000000</td>\n",
       "      <td>0.000000</td>\n",
       "      <td>0.000000</td>\n",
       "      <td>0.000000</td>\n",
       "      <td>0.000000</td>\n",
       "      <td>0.000000</td>\n",
       "    </tr>\n",
       "    <tr>\n",
       "      <th>75%</th>\n",
       "      <td>40.890000</td>\n",
       "      <td>1.000000</td>\n",
       "      <td>4.200000</td>\n",
       "      <td>5008.750000</td>\n",
       "      <td>102.082500</td>\n",
       "      <td>566.000000</td>\n",
       "      <td>12985.000000</td>\n",
       "      <td>1.000000</td>\n",
       "      <td>0.000000</td>\n",
       "      <td>0.000000</td>\n",
       "      <td>0.000000</td>\n",
       "      <td>1.000000</td>\n",
       "    </tr>\n",
       "    <tr>\n",
       "      <th>max</th>\n",
       "      <td>115.230000</td>\n",
       "      <td>3.000000</td>\n",
       "      <td>5.000000</td>\n",
       "      <td>9687.000000</td>\n",
       "      <td>168.070000</td>\n",
       "      <td>963.000000</td>\n",
       "      <td>15470.000000</td>\n",
       "      <td>1.000000</td>\n",
       "      <td>1.000000</td>\n",
       "      <td>1.000000</td>\n",
       "      <td>1.000000</td>\n",
       "      <td>1.000000</td>\n",
       "    </tr>\n",
       "  </tbody>\n",
       "</table>\n",
       "</div>"
      ],
      "text/plain": [
       "       Торговельна_площа_кв_м  Количество_касс  Рейтинг_в_гуглі  \\\n",
       "count               67.000000        67.000000        67.000000   \n",
       "mean                33.738478         1.223881         3.792537   \n",
       "std                 19.363838         0.454636         0.698117   \n",
       "min                  4.000000         1.000000         1.800000   \n",
       "25%                 21.750000         1.000000         3.000000   \n",
       "50%                 27.500000         1.000000         4.000000   \n",
       "75%                 40.890000         1.000000         4.200000   \n",
       "max                115.230000         3.000000         5.000000   \n",
       "\n",
       "       Количество_чеков  Средний_чек   Населення  Середній_дохід_населення  \\\n",
       "count         60.000000    60.000000   62.000000                 62.000000   \n",
       "mean        4033.683333    95.334667  304.370968              11765.645161   \n",
       "std         2347.363674    19.003842  324.201477               1633.615743   \n",
       "min          476.000000    65.270000    0.000000               9030.000000   \n",
       "25%         2047.750000    82.032500    0.000000              10570.000000   \n",
       "50%         3687.500000    92.645000  218.000000              11550.000000   \n",
       "75%         5008.750000   102.082500  566.000000              12985.000000   \n",
       "max         9687.000000   168.070000  963.000000              15470.000000   \n",
       "\n",
       "       Спец_мясо   Спец_сир  Спец_поб_хімія  Супермаркет  Магазин_біля_дому  \n",
       "count  67.000000  67.000000       67.000000    67.000000          67.000000  \n",
       "mean    0.283582   0.223881        0.238806     0.208955           0.313433  \n",
       "std     0.454138   0.419989        0.429572     0.409631           0.467390  \n",
       "min     0.000000   0.000000        0.000000     0.000000           0.000000  \n",
       "25%     0.000000   0.000000        0.000000     0.000000           0.000000  \n",
       "50%     0.000000   0.000000        0.000000     0.000000           0.000000  \n",
       "75%     1.000000   0.000000        0.000000     0.000000           1.000000  \n",
       "max     1.000000   1.000000        1.000000     1.000000           1.000000  "
      ]
     },
     "execution_count": 19,
     "metadata": {},
     "output_type": "execute_result"
    }
   ],
   "source": [
    "# Mistakes Deleting \n",
    "df = df.drop(df[df.Середній_дохід_населення < 7200].index)\n",
    "df.describe()"
   ]
  },
  {
   "cell_type": "code",
   "execution_count": 20,
   "id": "d11e7d27",
   "metadata": {},
   "outputs": [
    {
     "data": {
      "text/plain": [
       "Успех                       0\n",
       "Торговельна_площа_кв_м      0\n",
       "Количество_касс             0\n",
       "Тип                         0\n",
       "Рейтинг_в_гуглі             0\n",
       "Количество_чеков            7\n",
       "Средний_чек                 7\n",
       "Населення                   5\n",
       "Середній_дохід_населення    5\n",
       "Спец_мясо                   0\n",
       "Спец_сир                    0\n",
       "Спец_поб_хімія              0\n",
       "Супермаркет                 0\n",
       "Магазин_біля_дому           0\n",
       "dtype: int64"
      ]
     },
     "execution_count": 20,
     "metadata": {},
     "output_type": "execute_result"
    }
   ],
   "source": [
    "# Cheking Missing data\n",
    "df.isnull().sum()"
   ]
  },
  {
   "cell_type": "code",
   "execution_count": 21,
   "id": "1c14cbfd",
   "metadata": {},
   "outputs": [
    {
     "data": {
      "text/plain": [
       "Успех                        object\n",
       "Торговельна_площа_кв_м      float64\n",
       "Количество_касс               int64\n",
       "Тип                          object\n",
       "Рейтинг_в_гуглі             float64\n",
       "Количество_чеков            float64\n",
       "Средний_чек                 float64\n",
       "Населення                   float64\n",
       "Середній_дохід_населення    float64\n",
       "Спец_мясо                     int64\n",
       "Спец_сир                      int64\n",
       "Спец_поб_хімія                int64\n",
       "Супермаркет                   int64\n",
       "Магазин_біля_дому             int64\n",
       "dtype: object"
      ]
     },
     "execution_count": 21,
     "metadata": {},
     "output_type": "execute_result"
    }
   ],
   "source": [
    "df.dtypes"
   ]
  },
  {
   "cell_type": "code",
   "execution_count": 22,
   "id": "acfc588d",
   "metadata": {},
   "outputs": [],
   "source": [
    "from sklearn.impute import SimpleImputer\n",
    "#numeric\n",
    "'''SimpleImputer - класс\n",
    "imputer_mean - экземпляр\n",
    "fit - метод класса'''\n",
    "\n",
    "imputer_mean = SimpleImputer(missing_values=np.nan, strategy='mean')\n",
    "df[['Количество_чеков']] = imputer_mean.fit_transform(df[['Количество_чеков']]).round()\n",
    "df[['Средний_чек']] = imputer_mean.fit_transform(df[['Средний_чек']]).round()\n",
    "df[['Населення']] = imputer_mean.fit_transform(df[['Населення']]).round()\n",
    "df[['Середній_дохід_населення']] = imputer_mean.fit_transform(df[['Середній_дохід_населення']]).round()"
   ]
  },
  {
   "cell_type": "code",
   "execution_count": 23,
   "id": "dc2c844e",
   "metadata": {},
   "outputs": [
    {
     "data": {
      "text/plain": [
       "Успех                       0\n",
       "Торговельна_площа_кв_м      0\n",
       "Количество_касс             0\n",
       "Тип                         0\n",
       "Рейтинг_в_гуглі             0\n",
       "Количество_чеков            0\n",
       "Средний_чек                 0\n",
       "Населення                   0\n",
       "Середній_дохід_населення    0\n",
       "Спец_мясо                   0\n",
       "Спец_сир                    0\n",
       "Спец_поб_хімія              0\n",
       "Супермаркет                 0\n",
       "Магазин_біля_дому           0\n",
       "dtype: int64"
      ]
     },
     "execution_count": 23,
     "metadata": {},
     "output_type": "execute_result"
    }
   ],
   "source": [
    "df.isnull().sum()"
   ]
  },
  {
   "cell_type": "code",
   "execution_count": 24,
   "id": "f2568a09",
   "metadata": {},
   "outputs": [],
   "source": [
    "# Function Outliers\n",
    "def outliers(df):\n",
    "    num_var = list(df._get_numeric_data().columns)\n",
    "    for col_names in num_var:\n",
    "        df[col_names] = df[col_names].apply(lambda y: df[col_names].mean()-3*df[col_names].std() \n",
    "                            if y < df[col_names].mean()-3*df[col_names].std() else y)\n",
    "        df[col_names] = df[col_names].apply(lambda y: df[col_names].mean()+3*df[col_names].std() \n",
    "                            if y > df[col_names].mean()+3*df[col_names].std() else y)\n",
    "    return(df)"
   ]
  },
  {
   "cell_type": "code",
   "execution_count": 25,
   "id": "f7fbdc69",
   "metadata": {},
   "outputs": [
    {
     "data": {
      "text/html": [
       "<div>\n",
       "<style scoped>\n",
       "    .dataframe tbody tr th:only-of-type {\n",
       "        vertical-align: middle;\n",
       "    }\n",
       "\n",
       "    .dataframe tbody tr th {\n",
       "        vertical-align: top;\n",
       "    }\n",
       "\n",
       "    .dataframe thead th {\n",
       "        text-align: right;\n",
       "    }\n",
       "</style>\n",
       "<table border=\"1\" class=\"dataframe\">\n",
       "  <thead>\n",
       "    <tr style=\"text-align: right;\">\n",
       "      <th></th>\n",
       "      <th>Торговельна_площа_кв_м</th>\n",
       "      <th>Количество_касс</th>\n",
       "      <th>Рейтинг_в_гуглі</th>\n",
       "      <th>Количество_чеков</th>\n",
       "      <th>Средний_чек</th>\n",
       "      <th>Населення</th>\n",
       "      <th>Середній_дохід_населення</th>\n",
       "      <th>Спец_мясо</th>\n",
       "      <th>Спец_сир</th>\n",
       "      <th>Спец_поб_хімія</th>\n",
       "      <th>Супермаркет</th>\n",
       "      <th>Магазин_біля_дому</th>\n",
       "    </tr>\n",
       "  </thead>\n",
       "  <tbody>\n",
       "    <tr>\n",
       "      <th>count</th>\n",
       "      <td>67.000000</td>\n",
       "      <td>67.000000</td>\n",
       "      <td>67.000000</td>\n",
       "      <td>67.000000</td>\n",
       "      <td>67.000000</td>\n",
       "      <td>67.000000</td>\n",
       "      <td>67.000000</td>\n",
       "      <td>67.000000</td>\n",
       "      <td>67.000000</td>\n",
       "      <td>67.000000</td>\n",
       "      <td>67.000000</td>\n",
       "      <td>67.000000</td>\n",
       "    </tr>\n",
       "    <tr>\n",
       "      <th>mean</th>\n",
       "      <td>33.274746</td>\n",
       "      <td>1.217728</td>\n",
       "      <td>3.792537</td>\n",
       "      <td>4033.716418</td>\n",
       "      <td>95.048258</td>\n",
       "      <td>304.343284</td>\n",
       "      <td>11765.671642</td>\n",
       "      <td>0.283582</td>\n",
       "      <td>0.223881</td>\n",
       "      <td>0.238806</td>\n",
       "      <td>0.208955</td>\n",
       "      <td>0.313433</td>\n",
       "    </tr>\n",
       "    <tr>\n",
       "      <th>std</th>\n",
       "      <td>17.631170</td>\n",
       "      <td>0.432486</td>\n",
       "      <td>0.698117</td>\n",
       "      <td>2219.394053</td>\n",
       "      <td>16.934855</td>\n",
       "      <td>311.679301</td>\n",
       "      <td>1570.517791</td>\n",
       "      <td>0.454138</td>\n",
       "      <td>0.419989</td>\n",
       "      <td>0.429572</td>\n",
       "      <td>0.409631</td>\n",
       "      <td>0.467390</td>\n",
       "    </tr>\n",
       "    <tr>\n",
       "      <th>min</th>\n",
       "      <td>4.000000</td>\n",
       "      <td>1.000000</td>\n",
       "      <td>1.800000</td>\n",
       "      <td>476.000000</td>\n",
       "      <td>65.000000</td>\n",
       "      <td>0.000000</td>\n",
       "      <td>9030.000000</td>\n",
       "      <td>0.000000</td>\n",
       "      <td>0.000000</td>\n",
       "      <td>0.000000</td>\n",
       "      <td>0.000000</td>\n",
       "      <td>0.000000</td>\n",
       "    </tr>\n",
       "    <tr>\n",
       "      <th>25%</th>\n",
       "      <td>21.750000</td>\n",
       "      <td>1.000000</td>\n",
       "      <td>3.000000</td>\n",
       "      <td>2205.500000</td>\n",
       "      <td>84.000000</td>\n",
       "      <td>0.000000</td>\n",
       "      <td>10570.000000</td>\n",
       "      <td>0.000000</td>\n",
       "      <td>0.000000</td>\n",
       "      <td>0.000000</td>\n",
       "      <td>0.000000</td>\n",
       "      <td>0.000000</td>\n",
       "    </tr>\n",
       "    <tr>\n",
       "      <th>50%</th>\n",
       "      <td>27.500000</td>\n",
       "      <td>1.000000</td>\n",
       "      <td>4.000000</td>\n",
       "      <td>4034.000000</td>\n",
       "      <td>95.000000</td>\n",
       "      <td>266.000000</td>\n",
       "      <td>11690.000000</td>\n",
       "      <td>0.000000</td>\n",
       "      <td>0.000000</td>\n",
       "      <td>0.000000</td>\n",
       "      <td>0.000000</td>\n",
       "      <td>0.000000</td>\n",
       "    </tr>\n",
       "    <tr>\n",
       "      <th>75%</th>\n",
       "      <td>40.890000</td>\n",
       "      <td>1.000000</td>\n",
       "      <td>4.200000</td>\n",
       "      <td>4801.000000</td>\n",
       "      <td>101.000000</td>\n",
       "      <td>554.000000</td>\n",
       "      <td>12880.000000</td>\n",
       "      <td>1.000000</td>\n",
       "      <td>0.000000</td>\n",
       "      <td>0.000000</td>\n",
       "      <td>0.000000</td>\n",
       "      <td>1.000000</td>\n",
       "    </tr>\n",
       "    <tr>\n",
       "      <th>max</th>\n",
       "      <td>91.829993</td>\n",
       "      <td>2.587788</td>\n",
       "      <td>5.000000</td>\n",
       "      <td>9687.000000</td>\n",
       "      <td>149.233295</td>\n",
       "      <td>963.000000</td>\n",
       "      <td>15470.000000</td>\n",
       "      <td>1.000000</td>\n",
       "      <td>1.000000</td>\n",
       "      <td>1.000000</td>\n",
       "      <td>1.000000</td>\n",
       "      <td>1.000000</td>\n",
       "    </tr>\n",
       "  </tbody>\n",
       "</table>\n",
       "</div>"
      ],
      "text/plain": [
       "       Торговельна_площа_кв_м  Количество_касс  Рейтинг_в_гуглі  \\\n",
       "count               67.000000        67.000000        67.000000   \n",
       "mean                33.274746         1.217728         3.792537   \n",
       "std                 17.631170         0.432486         0.698117   \n",
       "min                  4.000000         1.000000         1.800000   \n",
       "25%                 21.750000         1.000000         3.000000   \n",
       "50%                 27.500000         1.000000         4.000000   \n",
       "75%                 40.890000         1.000000         4.200000   \n",
       "max                 91.829993         2.587788         5.000000   \n",
       "\n",
       "       Количество_чеков  Средний_чек   Населення  Середній_дохід_населення  \\\n",
       "count         67.000000    67.000000   67.000000                 67.000000   \n",
       "mean        4033.716418    95.048258  304.343284              11765.671642   \n",
       "std         2219.394053    16.934855  311.679301               1570.517791   \n",
       "min          476.000000    65.000000    0.000000               9030.000000   \n",
       "25%         2205.500000    84.000000    0.000000              10570.000000   \n",
       "50%         4034.000000    95.000000  266.000000              11690.000000   \n",
       "75%         4801.000000   101.000000  554.000000              12880.000000   \n",
       "max         9687.000000   149.233295  963.000000              15470.000000   \n",
       "\n",
       "       Спец_мясо   Спец_сир  Спец_поб_хімія  Супермаркет  Магазин_біля_дому  \n",
       "count  67.000000  67.000000       67.000000    67.000000          67.000000  \n",
       "mean    0.283582   0.223881        0.238806     0.208955           0.313433  \n",
       "std     0.454138   0.419989        0.429572     0.409631           0.467390  \n",
       "min     0.000000   0.000000        0.000000     0.000000           0.000000  \n",
       "25%     0.000000   0.000000        0.000000     0.000000           0.000000  \n",
       "50%     0.000000   0.000000        0.000000     0.000000           0.000000  \n",
       "75%     1.000000   0.000000        0.000000     0.000000           1.000000  \n",
       "max     1.000000   1.000000        1.000000     1.000000           1.000000  "
      ]
     },
     "execution_count": 25,
     "metadata": {},
     "output_type": "execute_result"
    }
   ],
   "source": [
    "# Outliers\n",
    "df = outliers(df)\n",
    "df.describe()"
   ]
  },
  {
   "cell_type": "code",
   "execution_count": 26,
   "id": "6ef6be33",
   "metadata": {},
   "outputs": [
    {
     "data": {
      "text/html": [
       "<div>\n",
       "<style scoped>\n",
       "    .dataframe tbody tr th:only-of-type {\n",
       "        vertical-align: middle;\n",
       "    }\n",
       "\n",
       "    .dataframe tbody tr th {\n",
       "        vertical-align: top;\n",
       "    }\n",
       "\n",
       "    .dataframe thead th {\n",
       "        text-align: right;\n",
       "    }\n",
       "</style>\n",
       "<table border=\"1\" class=\"dataframe\">\n",
       "  <thead>\n",
       "    <tr style=\"text-align: right;\">\n",
       "      <th></th>\n",
       "      <th>Успех</th>\n",
       "      <th>Торговельна_площа_кв_м</th>\n",
       "      <th>Количество_касс</th>\n",
       "      <th>Тип</th>\n",
       "      <th>Рейтинг_в_гуглі</th>\n",
       "      <th>Количество_чеков</th>\n",
       "      <th>Средний_чек</th>\n",
       "      <th>Населення</th>\n",
       "      <th>Середній_дохід_населення</th>\n",
       "      <th>Спец_мясо</th>\n",
       "      <th>Спец_сир</th>\n",
       "      <th>Спец_поб_хімія</th>\n",
       "      <th>Супермаркет</th>\n",
       "      <th>Магазин_біля_дому</th>\n",
       "    </tr>\n",
       "  </thead>\n",
       "  <tbody>\n",
       "    <tr>\n",
       "      <th>0</th>\n",
       "      <td>0</td>\n",
       "      <td>9.000000</td>\n",
       "      <td>1.0</td>\n",
       "      <td>2</td>\n",
       "      <td>3.0</td>\n",
       "      <td>659.0</td>\n",
       "      <td>77.000000</td>\n",
       "      <td>108.0</td>\n",
       "      <td>14910.0</td>\n",
       "      <td>1</td>\n",
       "      <td>1</td>\n",
       "      <td>0</td>\n",
       "      <td>1</td>\n",
       "      <td>1</td>\n",
       "    </tr>\n",
       "    <tr>\n",
       "      <th>1</th>\n",
       "      <td>0</td>\n",
       "      <td>22.000000</td>\n",
       "      <td>1.0</td>\n",
       "      <td>2</td>\n",
       "      <td>4.1</td>\n",
       "      <td>1518.0</td>\n",
       "      <td>85.000000</td>\n",
       "      <td>750.0</td>\n",
       "      <td>9030.0</td>\n",
       "      <td>0</td>\n",
       "      <td>0</td>\n",
       "      <td>0</td>\n",
       "      <td>1</td>\n",
       "      <td>1</td>\n",
       "    </tr>\n",
       "    <tr>\n",
       "      <th>2</th>\n",
       "      <td>0</td>\n",
       "      <td>13.000000</td>\n",
       "      <td>1.0</td>\n",
       "      <td>2</td>\n",
       "      <td>3.0</td>\n",
       "      <td>476.0</td>\n",
       "      <td>112.000000</td>\n",
       "      <td>0.0</td>\n",
       "      <td>9030.0</td>\n",
       "      <td>0</td>\n",
       "      <td>0</td>\n",
       "      <td>0</td>\n",
       "      <td>0</td>\n",
       "      <td>0</td>\n",
       "    </tr>\n",
       "    <tr>\n",
       "      <th>3</th>\n",
       "      <td>0</td>\n",
       "      <td>18.000000</td>\n",
       "      <td>1.0</td>\n",
       "      <td>2</td>\n",
       "      <td>3.0</td>\n",
       "      <td>1310.0</td>\n",
       "      <td>120.000000</td>\n",
       "      <td>0.0</td>\n",
       "      <td>13930.0</td>\n",
       "      <td>1</td>\n",
       "      <td>0</td>\n",
       "      <td>0</td>\n",
       "      <td>1</td>\n",
       "      <td>1</td>\n",
       "    </tr>\n",
       "    <tr>\n",
       "      <th>4</th>\n",
       "      <td>0</td>\n",
       "      <td>25.000000</td>\n",
       "      <td>1.0</td>\n",
       "      <td>1</td>\n",
       "      <td>4.0</td>\n",
       "      <td>2029.0</td>\n",
       "      <td>95.000000</td>\n",
       "      <td>0.0</td>\n",
       "      <td>14560.0</td>\n",
       "      <td>0</td>\n",
       "      <td>0</td>\n",
       "      <td>0</td>\n",
       "      <td>0</td>\n",
       "      <td>0</td>\n",
       "    </tr>\n",
       "    <tr>\n",
       "      <th>...</th>\n",
       "      <td>...</td>\n",
       "      <td>...</td>\n",
       "      <td>...</td>\n",
       "      <td>...</td>\n",
       "      <td>...</td>\n",
       "      <td>...</td>\n",
       "      <td>...</td>\n",
       "      <td>...</td>\n",
       "      <td>...</td>\n",
       "      <td>...</td>\n",
       "      <td>...</td>\n",
       "      <td>...</td>\n",
       "      <td>...</td>\n",
       "      <td>...</td>\n",
       "    </tr>\n",
       "    <tr>\n",
       "      <th>64</th>\n",
       "      <td>1</td>\n",
       "      <td>40.780000</td>\n",
       "      <td>2.0</td>\n",
       "      <td>1</td>\n",
       "      <td>4.0</td>\n",
       "      <td>6884.0</td>\n",
       "      <td>107.000000</td>\n",
       "      <td>963.0</td>\n",
       "      <td>9800.0</td>\n",
       "      <td>0</td>\n",
       "      <td>0</td>\n",
       "      <td>1</td>\n",
       "      <td>0</td>\n",
       "      <td>0</td>\n",
       "    </tr>\n",
       "    <tr>\n",
       "      <th>65</th>\n",
       "      <td>1</td>\n",
       "      <td>21.500000</td>\n",
       "      <td>1.0</td>\n",
       "      <td>1</td>\n",
       "      <td>2.3</td>\n",
       "      <td>4721.0</td>\n",
       "      <td>89.000000</td>\n",
       "      <td>0.0</td>\n",
       "      <td>12600.0</td>\n",
       "      <td>1</td>\n",
       "      <td>1</td>\n",
       "      <td>1</td>\n",
       "      <td>0</td>\n",
       "      <td>0</td>\n",
       "    </tr>\n",
       "    <tr>\n",
       "      <th>66</th>\n",
       "      <td>0</td>\n",
       "      <td>91.829993</td>\n",
       "      <td>1.0</td>\n",
       "      <td>2</td>\n",
       "      <td>3.0</td>\n",
       "      <td>3286.0</td>\n",
       "      <td>106.000000</td>\n",
       "      <td>315.0</td>\n",
       "      <td>10570.0</td>\n",
       "      <td>0</td>\n",
       "      <td>0</td>\n",
       "      <td>0</td>\n",
       "      <td>0</td>\n",
       "      <td>1</td>\n",
       "    </tr>\n",
       "    <tr>\n",
       "      <th>67</th>\n",
       "      <td>0</td>\n",
       "      <td>34.800000</td>\n",
       "      <td>2.0</td>\n",
       "      <td>1</td>\n",
       "      <td>4.3</td>\n",
       "      <td>3963.0</td>\n",
       "      <td>149.233295</td>\n",
       "      <td>0.0</td>\n",
       "      <td>12460.0</td>\n",
       "      <td>1</td>\n",
       "      <td>1</td>\n",
       "      <td>0</td>\n",
       "      <td>0</td>\n",
       "      <td>0</td>\n",
       "    </tr>\n",
       "    <tr>\n",
       "      <th>68</th>\n",
       "      <td>1</td>\n",
       "      <td>22.000000</td>\n",
       "      <td>1.0</td>\n",
       "      <td>1</td>\n",
       "      <td>4.9</td>\n",
       "      <td>4200.0</td>\n",
       "      <td>102.000000</td>\n",
       "      <td>678.0</td>\n",
       "      <td>10430.0</td>\n",
       "      <td>1</td>\n",
       "      <td>1</td>\n",
       "      <td>0</td>\n",
       "      <td>0</td>\n",
       "      <td>0</td>\n",
       "    </tr>\n",
       "  </tbody>\n",
       "</table>\n",
       "<p>67 rows × 14 columns</p>\n",
       "</div>"
      ],
      "text/plain": [
       "    Успех  Торговельна_площа_кв_м  Количество_касс  Тип  Рейтинг_в_гуглі  \\\n",
       "0       0                9.000000              1.0    2              3.0   \n",
       "1       0               22.000000              1.0    2              4.1   \n",
       "2       0               13.000000              1.0    2              3.0   \n",
       "3       0               18.000000              1.0    2              3.0   \n",
       "4       0               25.000000              1.0    1              4.0   \n",
       "..    ...                     ...              ...  ...              ...   \n",
       "64      1               40.780000              2.0    1              4.0   \n",
       "65      1               21.500000              1.0    1              2.3   \n",
       "66      0               91.829993              1.0    2              3.0   \n",
       "67      0               34.800000              2.0    1              4.3   \n",
       "68      1               22.000000              1.0    1              4.9   \n",
       "\n",
       "    Количество_чеков  Средний_чек  Населення  Середній_дохід_населення  \\\n",
       "0              659.0    77.000000      108.0                   14910.0   \n",
       "1             1518.0    85.000000      750.0                    9030.0   \n",
       "2              476.0   112.000000        0.0                    9030.0   \n",
       "3             1310.0   120.000000        0.0                   13930.0   \n",
       "4             2029.0    95.000000        0.0                   14560.0   \n",
       "..               ...          ...        ...                       ...   \n",
       "64            6884.0   107.000000      963.0                    9800.0   \n",
       "65            4721.0    89.000000        0.0                   12600.0   \n",
       "66            3286.0   106.000000      315.0                   10570.0   \n",
       "67            3963.0   149.233295        0.0                   12460.0   \n",
       "68            4200.0   102.000000      678.0                   10430.0   \n",
       "\n",
       "    Спец_мясо  Спец_сир  Спец_поб_хімія  Супермаркет  Магазин_біля_дому  \n",
       "0           1         1               0            1                  1  \n",
       "1           0         0               0            1                  1  \n",
       "2           0         0               0            0                  0  \n",
       "3           1         0               0            1                  1  \n",
       "4           0         0               0            0                  0  \n",
       "..        ...       ...             ...          ...                ...  \n",
       "64          0         0               1            0                  0  \n",
       "65          1         1               1            0                  0  \n",
       "66          0         0               0            0                  1  \n",
       "67          1         1               0            0                  0  \n",
       "68          1         1               0            0                  0  \n",
       "\n",
       "[67 rows x 14 columns]"
      ]
     },
     "execution_count": 26,
     "metadata": {},
     "output_type": "execute_result"
    }
   ],
   "source": [
    "from sklearn import preprocessing\n",
    "df['Тип'] = preprocessing.LabelEncoder().fit_transform(df['Тип'])\n",
    "df['Успех'] = preprocessing.LabelEncoder().fit_transform(df['Успех'])\n",
    "df\n",
    "# Тип: 1 - новый, 2 - старый.\n",
    "# Успех: 0 - не успешный, 1 - успешный. "
   ]
  },
  {
   "cell_type": "code",
   "execution_count": 28,
   "id": "766b4fc4",
   "metadata": {},
   "outputs": [],
   "source": [
    "#!pip install seaborn"
   ]
  },
  {
   "cell_type": "code",
   "execution_count": 29,
   "id": "5d08803f",
   "metadata": {},
   "outputs": [
    {
     "data": {
      "image/png": "[encoded data removed]",
      "text/plain": [
       "<Figure size 864x648 with 2 Axes>"
      ]
     },
     "metadata": {
      "needs_background": "light"
     },
     "output_type": "display_data"
    }
   ],
   "source": [
    "# Cheking correlations\n",
    "import seaborn as sns\n",
    "corrmat = df.corr()\n",
    "f, ax = plt.subplots(figsize=(12, 9))\n",
    "sns.heatmap(corrmat, annot=True)\n",
    "plt.show()"
   ]
  },
  {
   "cell_type": "code",
   "execution_count": 30,
   "id": "35518fe1",
   "metadata": {},
   "outputs": [],
   "source": [
    "# На \"Успех\" больше всего влияет \"Количество чеков\" и \"Средний чек\"."
   ]
  },
  {
   "cell_type": "code",
   "execution_count": 31,
   "id": "5a6658f2",
   "metadata": {},
   "outputs": [],
   "source": [
    "# Exporting the dataset\n",
    "df.to_csv('KR2_prep.csv', sep=';', index=False)"
   ]
  },
  {
   "cell_type": "code",
   "execution_count": 32,
   "id": "4523bd9b",
   "metadata": {},
   "outputs": [],
   "source": [
    "# Splitting the dataset into the Training set and Test set\n",
    "f = ['Торговельна_площа_кв_м','Количество_касс','Тип','Рейтинг_в_гуглі','Количество_чеков','Средний_чек','Населення','Середній_дохід_населення','Спец_мясо','Спец_сир','Спец_поб_хімія','Супермаркет','Магазин_біля_дому']\n",
    "X = df[f]\n",
    "y = df['Успех']\n",
    "from sklearn.model_selection import train_test_split\n",
    "X_train, X_test, y_train, y_test = train_test_split(X, y, test_size=0.2, random_state=10)"
   ]
  },
  {
   "cell_type": "code",
   "execution_count": 33,
   "id": "6d6e7111",
   "metadata": {},
   "outputs": [],
   "source": [
    "from sklearn.preprocessing import StandardScaler\n",
    "sc_X = StandardScaler().fit(X_train)\n",
    "X_train = sc_X.transform(X_train)\n",
    "X_test = sc_X.transform(X_test)"
   ]
  },
  {
   "cell_type": "code",
   "execution_count": 35,
   "id": "e9141793",
   "metadata": {},
   "outputs": [],
   "source": [
    "#!pip install statsmodels"
   ]
  },
  {
   "cell_type": "markdown",
   "id": "9e10d9f0",
   "metadata": {},
   "source": [
    "# Feature Selection"
   ]
  },
  {
   "cell_type": "code",
   "execution_count": 36,
   "id": "0374f482",
   "metadata": {},
   "outputs": [
    {
     "name": "stdout",
     "output_type": "stream",
     "text": [
      "Warning: Maximum number of iterations has been exceeded.\n",
      "         Current function value: 0.000000\n",
      "         Iterations: 35\n",
      "                          Results: Logit\n",
      "===================================================================\n",
      "Model:               Logit            Pseudo R-squared: 1.000      \n",
      "Dependent Variable:  Успех            AIC:              26.0000    \n",
      "Date:                2021-12-27 19:28 BIC:              51.6138    \n",
      "No. Observations:    53               Log-Likelihood:   -3.1876e-06\n",
      "Df Model:            12               LL-Null:          -33.962    \n",
      "Df Residuals:        40               LLR p-value:      7.8198e-10 \n",
      "Converged:           0.0000           Scale:            1.0000     \n",
      "No. Iterations:      35.0000                                       \n",
      "-------------------------------------------------------------------\n",
      "      Coef.     Std.Err.     z    P>|z|      [0.025       0.975]   \n",
      "-------------------------------------------------------------------\n",
      "x1   -71.1164 316493.5497 -0.0002 0.9998  -620387.0753  620244.8424\n",
      "x2   -28.1352 226219.8264 -0.0001 0.9999  -443410.8476  443354.5772\n",
      "x3   -20.5783 250082.0378 -0.0001 0.9999  -490172.3655  490131.2090\n",
      "x4   -58.0873 255445.5562 -0.0002 0.9998  -500722.1775  500606.0028\n",
      "x5   468.0769 588586.2483  0.0008 0.9994 -1153139.7717 1154075.9255\n",
      "x6    19.4237 604702.7096  0.0000 1.0000 -1185176.1085 1185214.9560\n",
      "x7    63.3882 306059.0586  0.0002 0.9998  -599801.3437  599928.1202\n",
      "x8   -42.4873  53336.4498 -0.0008 0.9994  -104580.0079  104495.0333\n",
      "x9    92.2137 477200.4445  0.0002 0.9998  -935203.4711  935387.8984\n",
      "x10 -146.6343 323642.8303 -0.0005 0.9996  -634474.9254  634181.6569\n",
      "x11  -48.2617 235045.5651 -0.0002 0.9998  -460729.1040  460632.5807\n",
      "x12   58.4407 172811.3461  0.0003 0.9997  -338645.5737  338762.4551\n",
      "x13  -31.8180   1721.4491 -0.0185 0.9853    -3405.7962    3342.1601\n",
      "===================================================================\n",
      "\n"
     ]
    },
    {
     "name": "stderr",
     "output_type": "stream",
     "text": [
      "C:\\Users\\Kassir\\anaconda3\\envs\\dlya lab\\lib\\site-packages\\statsmodels\\discrete\\discrete_model.py:1819: RuntimeWarning: overflow encountered in exp\n",
      "  return 1/(1+np.exp(-X))\n",
      "C:\\Users\\Kassir\\anaconda3\\envs\\dlya lab\\lib\\site-packages\\statsmodels\\base\\model.py:604: ConvergenceWarning: Maximum Likelihood optimization failed to converge. Check mle_retvals\n",
      "  warnings.warn(\"Maximum Likelihood optimization failed to \"\n"
     ]
    }
   ],
   "source": [
    "# Baseline model\n",
    "import statsmodels.api as sm\n",
    "lr = sm.Logit(y_train, X_train).fit()\n",
    "print(lr.summary2())"
   ]
  },
  {
   "cell_type": "code",
   "execution_count": 37,
   "id": "673c5ec4",
   "metadata": {},
   "outputs": [
    {
     "name": "stdout",
     "output_type": "stream",
     "text": [
      "3\n",
      "[False False False False  True False  True False False False False  True\n",
      " False]\n",
      "[ 4  7  2  3  1  5  1 11  9  8 10  1  6]\n"
     ]
    }
   ],
   "source": [
    "# Automatic Feature Selection\n",
    "from sklearn.feature_selection import RFECV\n",
    "from sklearn.linear_model import LogisticRegression\n",
    "estimator=LogisticRegression()\n",
    "selector=RFECV(estimator, step=1)\n",
    "selector=selector.fit(X_train, y_train)\n",
    "print(selector.n_features_)\n",
    "print(selector.support_)\n",
    "print(selector.ranking_)"
   ]
  },
  {
   "cell_type": "code",
   "execution_count": 38,
   "id": "8d732ca8",
   "metadata": {},
   "outputs": [],
   "source": [
    "# Leaving only Selected Features\n",
    "X_train_select=X_train[:,[False, False, False, False, True, False, True, False, False, False, False, True, False]]\n",
    "X_test_select=X_test[:,[False, False, False, False, True, False, True, False, False, False, False, True, False]]"
   ]
  },
  {
   "cell_type": "code",
   "execution_count": 39,
   "id": "467e407c",
   "metadata": {},
   "outputs": [],
   "source": [
    "col = ['Количество_чеков','Населення']"
   ]
  },
  {
   "cell_type": "markdown",
   "id": "52af0905",
   "metadata": {},
   "source": [
    "# Classification Tree & Ensembles"
   ]
  },
  {
   "cell_type": "markdown",
   "id": "426944b2",
   "metadata": {},
   "source": [
    "## Parameters (Classification Tree)"
   ]
  },
  {
   "cell_type": "code",
   "execution_count": 40,
   "id": "e0f397d5",
   "metadata": {},
   "outputs": [],
   "source": [
    "def max_leaf_nodes(X_train, X_test, y_train, y_test, n):\n",
    "    mse_train = []\n",
    "    mse_test = []\n",
    "    for i in n:\n",
    "        ct = DecisionTreeClassifier(max_leaf_nodes = i, random_state=10).fit(X_train, y_train)\n",
    "        mse_train.append(mean_squared_error(y_train, ct.predict(X_train)))\n",
    "        mse_test.append(mean_squared_error(y_test, ct.predict(X_test)))\n",
    "    fig, ax = plt.subplots(figsize=(8, 4))\n",
    "    ax.plot(n, mse_train, alpha=0.5, color='blue', label='train')\n",
    "    ax.plot(n, mse_test, alpha=0.5, color='red', label='test')\n",
    "    ax.set_ylabel(\"MSE\")\n",
    "    ax.set_xlabel(\"max_leaf_nodes\")"
   ]
  },
  {
   "cell_type": "code",
   "execution_count": 41,
   "id": "6668ab79",
   "metadata": {},
   "outputs": [
    {
     "data": {
      "image/png": "[encoded data removed]",
      "text/plain": [
       "<Figure size 576x288 with 1 Axes>"
      ]
     },
     "metadata": {
      "needs_background": "light"
     },
     "output_type": "display_data"
    }
   ],
   "source": [
    "# The optimal number of max_leaf_nodes\n",
    "from sklearn.tree import DecisionTreeClassifier\n",
    "from sklearn.metrics import mean_squared_error\n",
    "max_leaf_nodes(X_train, X_test, y_train, y_test, [2, 4, 6, 8, 10])"
   ]
  },
  {
   "cell_type": "code",
   "execution_count": 42,
   "id": "643dc673",
   "metadata": {},
   "outputs": [],
   "source": [
    "# С ростом детализации ошибка обучения падает. А вот ошибка на тестовой выборке начинает расти с 2.\n",
    "# Оптимальное значение этого параметра = 2. "
   ]
  },
  {
   "cell_type": "markdown",
   "id": "02d1e377",
   "metadata": {},
   "source": [
    "# Model"
   ]
  },
  {
   "cell_type": "code",
   "execution_count": 43,
   "id": "bface600",
   "metadata": {},
   "outputs": [],
   "source": [
    "# Fitting Classification Tree to the Training set (2 variables)\n",
    "ct = DecisionTreeClassifier(max_leaf_nodes = 2, criterion = 'entropy', random_state = 10).fit(X_train, y_train)"
   ]
  },
  {
   "cell_type": "markdown",
   "id": "b1f8aced",
   "metadata": {},
   "source": [
    "# Results"
   ]
  },
  {
   "cell_type": "code",
   "execution_count": 44,
   "id": "6c2beb7d",
   "metadata": {},
   "outputs": [
    {
     "data": {
      "text/plain": [
       "0.9285714285714286"
      ]
     },
     "execution_count": 44,
     "metadata": {},
     "output_type": "execute_result"
    }
   ],
   "source": [
    "# Predicting the Test set results\n",
    "y_pred = ct.predict(X_test)\n",
    "ct.score(X_test,y_test)"
   ]
  },
  {
   "cell_type": "code",
   "execution_count": 45,
   "id": "e90019f6",
   "metadata": {},
   "outputs": [],
   "source": [
    "# 93% объектов распознаны верно. Точность модели - 93%. "
   ]
  },
  {
   "cell_type": "code",
   "execution_count": 46,
   "id": "f096face",
   "metadata": {},
   "outputs": [
    {
     "name": "stdout",
     "output_type": "stream",
     "text": [
      "[[7 1]\n",
      " [0 6]]\n"
     ]
    }
   ],
   "source": [
    "# Making the Confusion Matrix\n",
    "from sklearn.metrics import confusion_matrix\n",
    "cm = confusion_matrix(y_test, y_pred)\n",
    "print(cm)"
   ]
  },
  {
   "cell_type": "code",
   "execution_count": 47,
   "id": "a856b080",
   "metadata": {},
   "outputs": [],
   "source": [
    "# На основе таблицы сопряженности, мы можем сделать вывод о том, что у нас 1 ложное срабатывание. \n",
    "# Часть неверно классифицированных случаев - 1/14 = 7%\n",
    "# Точность модели - 13/14 = 93%\n",
    "# Чувствительность - 6/6 = 100% \n",
    "# Специфичность - 7/8 = 87,5% "
   ]
  },
  {
   "cell_type": "code",
   "execution_count": 48,
   "id": "81207112",
   "metadata": {},
   "outputs": [
    {
     "ename": "ValueError",
     "evalue": "All arrays must be of the same length",
     "output_type": "error",
     "traceback": [
      "\u001b[1;31m---------------------------------------------------------------------------\u001b[0m",
      "\u001b[1;31mValueError\u001b[0m                                Traceback (most recent call last)",
      "\u001b[1;32m~\\AppData\\Local\\Temp/ipykernel_1728/1770773345.py\u001b[0m in \u001b[0;36m<module>\u001b[1;34m\u001b[0m\n\u001b[0;32m      1\u001b[0m \u001b[1;31m# Features importances\u001b[0m\u001b[1;33m\u001b[0m\u001b[1;33m\u001b[0m\u001b[1;33m\u001b[0m\u001b[0m\n\u001b[1;32m----> 2\u001b[1;33m \u001b[0mct_imp\u001b[0m \u001b[1;33m=\u001b[0m \u001b[0mpd\u001b[0m\u001b[1;33m.\u001b[0m\u001b[0mDataFrame\u001b[0m\u001b[1;33m(\u001b[0m\u001b[1;33m{\u001b[0m\u001b[1;34m'imp'\u001b[0m\u001b[1;33m:\u001b[0m \u001b[0mct\u001b[0m\u001b[1;33m.\u001b[0m\u001b[0mfeature_importances_\u001b[0m\u001b[1;33m,\u001b[0m \u001b[1;34m'col'\u001b[0m\u001b[1;33m:\u001b[0m \u001b[0mcol\u001b[0m\u001b[1;33m}\u001b[0m\u001b[1;33m)\u001b[0m\u001b[1;33m\u001b[0m\u001b[1;33m\u001b[0m\u001b[0m\n\u001b[0m\u001b[0;32m      3\u001b[0m \u001b[0mct_imp\u001b[0m \u001b[1;33m=\u001b[0m \u001b[0mct_imp\u001b[0m\u001b[1;33m.\u001b[0m\u001b[0msort_values\u001b[0m\u001b[1;33m(\u001b[0m\u001b[1;33m[\u001b[0m\u001b[1;34m'imp'\u001b[0m\u001b[1;33m,\u001b[0m \u001b[1;34m'col'\u001b[0m\u001b[1;33m]\u001b[0m\u001b[1;33m,\u001b[0m \u001b[0mascending\u001b[0m\u001b[1;33m=\u001b[0m\u001b[1;33m[\u001b[0m\u001b[1;32mTrue\u001b[0m\u001b[1;33m,\u001b[0m \u001b[1;32mFalse\u001b[0m\u001b[1;33m]\u001b[0m\u001b[1;33m)\u001b[0m\u001b[1;33m.\u001b[0m\u001b[0miloc\u001b[0m\u001b[1;33m[\u001b[0m\u001b[1;33m-\u001b[0m\u001b[1;36m10\u001b[0m\u001b[1;33m:\u001b[0m\u001b[1;33m]\u001b[0m\u001b[1;33m\u001b[0m\u001b[1;33m\u001b[0m\u001b[0m\n\u001b[0;32m      4\u001b[0m \u001b[0mct_imp\u001b[0m\u001b[1;33m.\u001b[0m\u001b[0mplot\u001b[0m\u001b[1;33m(\u001b[0m\u001b[0mkind\u001b[0m\u001b[1;33m=\u001b[0m\u001b[1;34m'barh'\u001b[0m\u001b[1;33m,\u001b[0m \u001b[0mx\u001b[0m\u001b[1;33m=\u001b[0m\u001b[1;34m'col'\u001b[0m\u001b[1;33m,\u001b[0m \u001b[0my\u001b[0m\u001b[1;33m=\u001b[0m\u001b[1;34m'imp'\u001b[0m\u001b[1;33m,\u001b[0m \u001b[0mfigsize\u001b[0m\u001b[1;33m=\u001b[0m\u001b[1;33m(\u001b[0m\u001b[1;36m10\u001b[0m\u001b[1;33m,\u001b[0m \u001b[1;36m7\u001b[0m\u001b[1;33m)\u001b[0m\u001b[1;33m,\u001b[0m \u001b[0mlegend\u001b[0m\u001b[1;33m=\u001b[0m\u001b[1;32mNone\u001b[0m\u001b[1;33m)\u001b[0m\u001b[1;33m\u001b[0m\u001b[1;33m\u001b[0m\u001b[0m\n\u001b[0;32m      5\u001b[0m \u001b[0mplt\u001b[0m\u001b[1;33m.\u001b[0m\u001b[0mtitle\u001b[0m\u001b[1;33m(\u001b[0m\u001b[1;34m'Tree. Feature Importance'\u001b[0m\u001b[1;33m)\u001b[0m\u001b[1;33m\u001b[0m\u001b[1;33m\u001b[0m\u001b[0m\n",
      "\u001b[1;32m~\\anaconda3\\envs\\dlya lab\\lib\\site-packages\\pandas\\core\\frame.py\u001b[0m in \u001b[0;36m__init__\u001b[1;34m(self, data, index, columns, dtype, copy)\u001b[0m\n\u001b[0;32m    612\u001b[0m         \u001b[1;32melif\u001b[0m \u001b[0misinstance\u001b[0m\u001b[1;33m(\u001b[0m\u001b[0mdata\u001b[0m\u001b[1;33m,\u001b[0m \u001b[0mdict\u001b[0m\u001b[1;33m)\u001b[0m\u001b[1;33m:\u001b[0m\u001b[1;33m\u001b[0m\u001b[1;33m\u001b[0m\u001b[0m\n\u001b[0;32m    613\u001b[0m             \u001b[1;31m# GH#38939 de facto copy defaults to False only in non-dict cases\u001b[0m\u001b[1;33m\u001b[0m\u001b[1;33m\u001b[0m\u001b[1;33m\u001b[0m\u001b[0m\n\u001b[1;32m--> 614\u001b[1;33m             \u001b[0mmgr\u001b[0m \u001b[1;33m=\u001b[0m \u001b[0mdict_to_mgr\u001b[0m\u001b[1;33m(\u001b[0m\u001b[0mdata\u001b[0m\u001b[1;33m,\u001b[0m \u001b[0mindex\u001b[0m\u001b[1;33m,\u001b[0m \u001b[0mcolumns\u001b[0m\u001b[1;33m,\u001b[0m \u001b[0mdtype\u001b[0m\u001b[1;33m=\u001b[0m\u001b[0mdtype\u001b[0m\u001b[1;33m,\u001b[0m \u001b[0mcopy\u001b[0m\u001b[1;33m=\u001b[0m\u001b[0mcopy\u001b[0m\u001b[1;33m,\u001b[0m \u001b[0mtyp\u001b[0m\u001b[1;33m=\u001b[0m\u001b[0mmanager\u001b[0m\u001b[1;33m)\u001b[0m\u001b[1;33m\u001b[0m\u001b[1;33m\u001b[0m\u001b[0m\n\u001b[0m\u001b[0;32m    615\u001b[0m         \u001b[1;32melif\u001b[0m \u001b[0misinstance\u001b[0m\u001b[1;33m(\u001b[0m\u001b[0mdata\u001b[0m\u001b[1;33m,\u001b[0m \u001b[0mma\u001b[0m\u001b[1;33m.\u001b[0m\u001b[0mMaskedArray\u001b[0m\u001b[1;33m)\u001b[0m\u001b[1;33m:\u001b[0m\u001b[1;33m\u001b[0m\u001b[1;33m\u001b[0m\u001b[0m\n\u001b[0;32m    616\u001b[0m             \u001b[1;32mimport\u001b[0m \u001b[0mnumpy\u001b[0m\u001b[1;33m.\u001b[0m\u001b[0mma\u001b[0m\u001b[1;33m.\u001b[0m\u001b[0mmrecords\u001b[0m \u001b[1;32mas\u001b[0m \u001b[0mmrecords\u001b[0m\u001b[1;33m\u001b[0m\u001b[1;33m\u001b[0m\u001b[0m\n",
      "\u001b[1;32m~\\anaconda3\\envs\\dlya lab\\lib\\site-packages\\pandas\\core\\internals\\construction.py\u001b[0m in \u001b[0;36mdict_to_mgr\u001b[1;34m(data, index, columns, dtype, typ, copy)\u001b[0m\n\u001b[0;32m    462\u001b[0m         \u001b[1;31m# TODO: can we get rid of the dt64tz special case above?\u001b[0m\u001b[1;33m\u001b[0m\u001b[1;33m\u001b[0m\u001b[1;33m\u001b[0m\u001b[0m\n\u001b[0;32m    463\u001b[0m \u001b[1;33m\u001b[0m\u001b[0m\n\u001b[1;32m--> 464\u001b[1;33m     return arrays_to_mgr(\n\u001b[0m\u001b[0;32m    465\u001b[0m         \u001b[0marrays\u001b[0m\u001b[1;33m,\u001b[0m \u001b[0mdata_names\u001b[0m\u001b[1;33m,\u001b[0m \u001b[0mindex\u001b[0m\u001b[1;33m,\u001b[0m \u001b[0mcolumns\u001b[0m\u001b[1;33m,\u001b[0m \u001b[0mdtype\u001b[0m\u001b[1;33m=\u001b[0m\u001b[0mdtype\u001b[0m\u001b[1;33m,\u001b[0m \u001b[0mtyp\u001b[0m\u001b[1;33m=\u001b[0m\u001b[0mtyp\u001b[0m\u001b[1;33m,\u001b[0m \u001b[0mconsolidate\u001b[0m\u001b[1;33m=\u001b[0m\u001b[0mcopy\u001b[0m\u001b[1;33m\u001b[0m\u001b[1;33m\u001b[0m\u001b[0m\n\u001b[0;32m    466\u001b[0m     )\n",
      "\u001b[1;32m~\\anaconda3\\envs\\dlya lab\\lib\\site-packages\\pandas\\core\\internals\\construction.py\u001b[0m in \u001b[0;36marrays_to_mgr\u001b[1;34m(arrays, arr_names, index, columns, dtype, verify_integrity, typ, consolidate)\u001b[0m\n\u001b[0;32m    117\u001b[0m         \u001b[1;31m# figure out the index, if necessary\u001b[0m\u001b[1;33m\u001b[0m\u001b[1;33m\u001b[0m\u001b[1;33m\u001b[0m\u001b[0m\n\u001b[0;32m    118\u001b[0m         \u001b[1;32mif\u001b[0m \u001b[0mindex\u001b[0m \u001b[1;32mis\u001b[0m \u001b[1;32mNone\u001b[0m\u001b[1;33m:\u001b[0m\u001b[1;33m\u001b[0m\u001b[1;33m\u001b[0m\u001b[0m\n\u001b[1;32m--> 119\u001b[1;33m             \u001b[0mindex\u001b[0m \u001b[1;33m=\u001b[0m \u001b[0m_extract_index\u001b[0m\u001b[1;33m(\u001b[0m\u001b[0marrays\u001b[0m\u001b[1;33m)\u001b[0m\u001b[1;33m\u001b[0m\u001b[1;33m\u001b[0m\u001b[0m\n\u001b[0m\u001b[0;32m    120\u001b[0m         \u001b[1;32melse\u001b[0m\u001b[1;33m:\u001b[0m\u001b[1;33m\u001b[0m\u001b[1;33m\u001b[0m\u001b[0m\n\u001b[0;32m    121\u001b[0m             \u001b[0mindex\u001b[0m \u001b[1;33m=\u001b[0m \u001b[0mensure_index\u001b[0m\u001b[1;33m(\u001b[0m\u001b[0mindex\u001b[0m\u001b[1;33m)\u001b[0m\u001b[1;33m\u001b[0m\u001b[1;33m\u001b[0m\u001b[0m\n",
      "\u001b[1;32m~\\anaconda3\\envs\\dlya lab\\lib\\site-packages\\pandas\\core\\internals\\construction.py\u001b[0m in \u001b[0;36m_extract_index\u001b[1;34m(data)\u001b[0m\n\u001b[0;32m    633\u001b[0m             \u001b[0mlengths\u001b[0m \u001b[1;33m=\u001b[0m \u001b[0mlist\u001b[0m\u001b[1;33m(\u001b[0m\u001b[0mset\u001b[0m\u001b[1;33m(\u001b[0m\u001b[0mraw_lengths\u001b[0m\u001b[1;33m)\u001b[0m\u001b[1;33m)\u001b[0m\u001b[1;33m\u001b[0m\u001b[1;33m\u001b[0m\u001b[0m\n\u001b[0;32m    634\u001b[0m             \u001b[1;32mif\u001b[0m \u001b[0mlen\u001b[0m\u001b[1;33m(\u001b[0m\u001b[0mlengths\u001b[0m\u001b[1;33m)\u001b[0m \u001b[1;33m>\u001b[0m \u001b[1;36m1\u001b[0m\u001b[1;33m:\u001b[0m\u001b[1;33m\u001b[0m\u001b[1;33m\u001b[0m\u001b[0m\n\u001b[1;32m--> 635\u001b[1;33m                 \u001b[1;32mraise\u001b[0m \u001b[0mValueError\u001b[0m\u001b[1;33m(\u001b[0m\u001b[1;34m\"All arrays must be of the same length\"\u001b[0m\u001b[1;33m)\u001b[0m\u001b[1;33m\u001b[0m\u001b[1;33m\u001b[0m\u001b[0m\n\u001b[0m\u001b[0;32m    636\u001b[0m \u001b[1;33m\u001b[0m\u001b[0m\n\u001b[0;32m    637\u001b[0m             \u001b[1;32mif\u001b[0m \u001b[0mhave_dicts\u001b[0m\u001b[1;33m:\u001b[0m\u001b[1;33m\u001b[0m\u001b[1;33m\u001b[0m\u001b[0m\n",
      "\u001b[1;31mValueError\u001b[0m: All arrays must be of the same length"
     ]
    }
   ],
   "source": [
    "# Features importances\n",
    "ct_imp = pd.DataFrame({'imp': ct.feature_importances_, 'col': col})\n",
    "ct_imp = ct_imp.sort_values(['imp', 'col'], ascending=[True, False]).iloc[-10:]\n",
    "ct_imp.plot(kind='barh', x='col', y='imp', figsize=(10, 7), legend=None)\n",
    "plt.title('Tree. Feature Importance')"
   ]
  },
  {
   "cell_type": "markdown",
   "id": "c8202761",
   "metadata": {},
   "source": [
    "# Visualisation"
   ]
  },
  {
   "cell_type": "code",
   "execution_count": 49,
   "id": "0c2a637b",
   "metadata": {},
   "outputs": [
    {
     "ename": "ValueError",
     "evalue": "X has 2 features, but DecisionTreeClassifier is expecting 13 features as input.",
     "output_type": "error",
     "traceback": [
      "\u001b[1;31m---------------------------------------------------------------------------\u001b[0m",
      "\u001b[1;31mValueError\u001b[0m                                Traceback (most recent call last)",
      "\u001b[1;32m~\\AppData\\Local\\Temp/ipykernel_1728/2358080004.py\u001b[0m in \u001b[0;36m<module>\u001b[1;34m\u001b[0m\n\u001b[0;32m      4\u001b[0m X1, X2 = np.meshgrid(np.arange(start = X_set[:, 0].min() - 1, stop = X_set[:, 0].max() + 1, step = 0.01),\n\u001b[0;32m      5\u001b[0m                      np.arange(start = X_set[:, 1].min() - 1, stop = X_set[:, 1].max() + 1, step = 0.01))\n\u001b[1;32m----> 6\u001b[1;33m plt.contourf(X1, X2, ct.predict(np.array([X1.ravel(), X2.ravel()]).T).reshape(X1.shape),\n\u001b[0m\u001b[0;32m      7\u001b[0m              alpha = 0.75, cmap = ListedColormap(('red', 'green')))\n\u001b[0;32m      8\u001b[0m \u001b[0mplt\u001b[0m\u001b[1;33m.\u001b[0m\u001b[0mxlim\u001b[0m\u001b[1;33m(\u001b[0m\u001b[0mX1\u001b[0m\u001b[1;33m.\u001b[0m\u001b[0mmin\u001b[0m\u001b[1;33m(\u001b[0m\u001b[1;33m)\u001b[0m\u001b[1;33m,\u001b[0m \u001b[0mX1\u001b[0m\u001b[1;33m.\u001b[0m\u001b[0mmax\u001b[0m\u001b[1;33m(\u001b[0m\u001b[1;33m)\u001b[0m\u001b[1;33m)\u001b[0m\u001b[1;33m\u001b[0m\u001b[1;33m\u001b[0m\u001b[0m\n",
      "\u001b[1;32m~\\anaconda3\\envs\\dlya lab\\lib\\site-packages\\sklearn\\tree\\_classes.py\u001b[0m in \u001b[0;36mpredict\u001b[1;34m(self, X, check_input)\u001b[0m\n\u001b[0;32m    465\u001b[0m         \"\"\"\n\u001b[0;32m    466\u001b[0m         \u001b[0mcheck_is_fitted\u001b[0m\u001b[1;33m(\u001b[0m\u001b[0mself\u001b[0m\u001b[1;33m)\u001b[0m\u001b[1;33m\u001b[0m\u001b[1;33m\u001b[0m\u001b[0m\n\u001b[1;32m--> 467\u001b[1;33m         \u001b[0mX\u001b[0m \u001b[1;33m=\u001b[0m \u001b[0mself\u001b[0m\u001b[1;33m.\u001b[0m\u001b[0m_validate_X_predict\u001b[0m\u001b[1;33m(\u001b[0m\u001b[0mX\u001b[0m\u001b[1;33m,\u001b[0m \u001b[0mcheck_input\u001b[0m\u001b[1;33m)\u001b[0m\u001b[1;33m\u001b[0m\u001b[1;33m\u001b[0m\u001b[0m\n\u001b[0m\u001b[0;32m    468\u001b[0m         \u001b[0mproba\u001b[0m \u001b[1;33m=\u001b[0m \u001b[0mself\u001b[0m\u001b[1;33m.\u001b[0m\u001b[0mtree_\u001b[0m\u001b[1;33m.\u001b[0m\u001b[0mpredict\u001b[0m\u001b[1;33m(\u001b[0m\u001b[0mX\u001b[0m\u001b[1;33m)\u001b[0m\u001b[1;33m\u001b[0m\u001b[1;33m\u001b[0m\u001b[0m\n\u001b[0;32m    469\u001b[0m         \u001b[0mn_samples\u001b[0m \u001b[1;33m=\u001b[0m \u001b[0mX\u001b[0m\u001b[1;33m.\u001b[0m\u001b[0mshape\u001b[0m\u001b[1;33m[\u001b[0m\u001b[1;36m0\u001b[0m\u001b[1;33m]\u001b[0m\u001b[1;33m\u001b[0m\u001b[1;33m\u001b[0m\u001b[0m\n",
      "\u001b[1;32m~\\anaconda3\\envs\\dlya lab\\lib\\site-packages\\sklearn\\tree\\_classes.py\u001b[0m in \u001b[0;36m_validate_X_predict\u001b[1;34m(self, X, check_input)\u001b[0m\n\u001b[0;32m    431\u001b[0m         \u001b[1;34m\"\"\"Validate the training data on predict (probabilities).\"\"\"\u001b[0m\u001b[1;33m\u001b[0m\u001b[1;33m\u001b[0m\u001b[0m\n\u001b[0;32m    432\u001b[0m         \u001b[1;32mif\u001b[0m \u001b[0mcheck_input\u001b[0m\u001b[1;33m:\u001b[0m\u001b[1;33m\u001b[0m\u001b[1;33m\u001b[0m\u001b[0m\n\u001b[1;32m--> 433\u001b[1;33m             \u001b[0mX\u001b[0m \u001b[1;33m=\u001b[0m \u001b[0mself\u001b[0m\u001b[1;33m.\u001b[0m\u001b[0m_validate_data\u001b[0m\u001b[1;33m(\u001b[0m\u001b[0mX\u001b[0m\u001b[1;33m,\u001b[0m \u001b[0mdtype\u001b[0m\u001b[1;33m=\u001b[0m\u001b[0mDTYPE\u001b[0m\u001b[1;33m,\u001b[0m \u001b[0maccept_sparse\u001b[0m\u001b[1;33m=\u001b[0m\u001b[1;34m\"csr\"\u001b[0m\u001b[1;33m,\u001b[0m \u001b[0mreset\u001b[0m\u001b[1;33m=\u001b[0m\u001b[1;32mFalse\u001b[0m\u001b[1;33m)\u001b[0m\u001b[1;33m\u001b[0m\u001b[1;33m\u001b[0m\u001b[0m\n\u001b[0m\u001b[0;32m    434\u001b[0m             if issparse(X) and (\n\u001b[0;32m    435\u001b[0m                 \u001b[0mX\u001b[0m\u001b[1;33m.\u001b[0m\u001b[0mindices\u001b[0m\u001b[1;33m.\u001b[0m\u001b[0mdtype\u001b[0m \u001b[1;33m!=\u001b[0m \u001b[0mnp\u001b[0m\u001b[1;33m.\u001b[0m\u001b[0mintc\u001b[0m \u001b[1;32mor\u001b[0m \u001b[0mX\u001b[0m\u001b[1;33m.\u001b[0m\u001b[0mindptr\u001b[0m\u001b[1;33m.\u001b[0m\u001b[0mdtype\u001b[0m \u001b[1;33m!=\u001b[0m \u001b[0mnp\u001b[0m\u001b[1;33m.\u001b[0m\u001b[0mintc\u001b[0m\u001b[1;33m\u001b[0m\u001b[1;33m\u001b[0m\u001b[0m\n",
      "\u001b[1;32m~\\anaconda3\\envs\\dlya lab\\lib\\site-packages\\sklearn\\base.py\u001b[0m in \u001b[0;36m_validate_data\u001b[1;34m(self, X, y, reset, validate_separately, **check_params)\u001b[0m\n\u001b[0;32m    578\u001b[0m \u001b[1;33m\u001b[0m\u001b[0m\n\u001b[0;32m    579\u001b[0m         \u001b[1;32mif\u001b[0m \u001b[1;32mnot\u001b[0m \u001b[0mno_val_X\u001b[0m \u001b[1;32mand\u001b[0m \u001b[0mcheck_params\u001b[0m\u001b[1;33m.\u001b[0m\u001b[0mget\u001b[0m\u001b[1;33m(\u001b[0m\u001b[1;34m\"ensure_2d\"\u001b[0m\u001b[1;33m,\u001b[0m \u001b[1;32mTrue\u001b[0m\u001b[1;33m)\u001b[0m\u001b[1;33m:\u001b[0m\u001b[1;33m\u001b[0m\u001b[1;33m\u001b[0m\u001b[0m\n\u001b[1;32m--> 580\u001b[1;33m             \u001b[0mself\u001b[0m\u001b[1;33m.\u001b[0m\u001b[0m_check_n_features\u001b[0m\u001b[1;33m(\u001b[0m\u001b[0mX\u001b[0m\u001b[1;33m,\u001b[0m \u001b[0mreset\u001b[0m\u001b[1;33m=\u001b[0m\u001b[0mreset\u001b[0m\u001b[1;33m)\u001b[0m\u001b[1;33m\u001b[0m\u001b[1;33m\u001b[0m\u001b[0m\n\u001b[0m\u001b[0;32m    581\u001b[0m \u001b[1;33m\u001b[0m\u001b[0m\n\u001b[0;32m    582\u001b[0m         \u001b[1;32mreturn\u001b[0m \u001b[0mout\u001b[0m\u001b[1;33m\u001b[0m\u001b[1;33m\u001b[0m\u001b[0m\n",
      "\u001b[1;32m~\\anaconda3\\envs\\dlya lab\\lib\\site-packages\\sklearn\\base.py\u001b[0m in \u001b[0;36m_check_n_features\u001b[1;34m(self, X, reset)\u001b[0m\n\u001b[0;32m    393\u001b[0m \u001b[1;33m\u001b[0m\u001b[0m\n\u001b[0;32m    394\u001b[0m         \u001b[1;32mif\u001b[0m \u001b[0mn_features\u001b[0m \u001b[1;33m!=\u001b[0m \u001b[0mself\u001b[0m\u001b[1;33m.\u001b[0m\u001b[0mn_features_in_\u001b[0m\u001b[1;33m:\u001b[0m\u001b[1;33m\u001b[0m\u001b[1;33m\u001b[0m\u001b[0m\n\u001b[1;32m--> 395\u001b[1;33m             raise ValueError(\n\u001b[0m\u001b[0;32m    396\u001b[0m                 \u001b[1;34mf\"X has {n_features} features, but {self.__class__.__name__} \"\u001b[0m\u001b[1;33m\u001b[0m\u001b[1;33m\u001b[0m\u001b[0m\n\u001b[0;32m    397\u001b[0m                 \u001b[1;34mf\"is expecting {self.n_features_in_} features as input.\"\u001b[0m\u001b[1;33m\u001b[0m\u001b[1;33m\u001b[0m\u001b[0m\n",
      "\u001b[1;31mValueError\u001b[0m: X has 2 features, but DecisionTreeClassifier is expecting 13 features as input."
     ]
    }
   ],
   "source": [
    "# Visualising the Test set results\n",
    "from matplotlib.colors import ListedColormap\n",
    "X_set, y_set = X_test, y_test\n",
    "X1, X2 = np.meshgrid(np.arange(start = X_set[:, 0].min() - 1, stop = X_set[:, 0].max() + 1, step = 0.01),\n",
    "                     np.arange(start = X_set[:, 1].min() - 1, stop = X_set[:, 1].max() + 1, step = 0.01))\n",
    "plt.contourf(X1, X2, ct.predict(np.array([X1.ravel(), X2.ravel()]).T).reshape(X1.shape),\n",
    "             alpha = 0.75, cmap = ListedColormap(('red', 'green')))\n",
    "plt.xlim(X1.min(), X1.max())\n",
    "plt.ylim(X2.min(), X2.max())\n",
    "for i, j in enumerate(np.unique(y_set)):\n",
    "    plt.scatter(X_set[y_set == j, 0], X_set[y_set == j, 1],\n",
    "                color = ListedColormap(('red', 'green'))(i), label = j)\n",
    "plt.title('Classification Tree (Test set)')\n",
    "plt.xlabel('Населення')\n",
    "plt.ylabel('Количество_чеков')\n",
    "plt.legend()\n",
    "plt.show()"
   ]
  },
  {
   "cell_type": "markdown",
   "id": "f3a29f69",
   "metadata": {},
   "source": [
    "# Forest"
   ]
  },
  {
   "cell_type": "markdown",
   "id": "6a0fee75",
   "metadata": {},
   "source": [
    "## Parameters"
   ]
  },
  {
   "cell_type": "code",
   "execution_count": 50,
   "id": "4a652644",
   "metadata": {},
   "outputs": [],
   "source": [
    "def rf_best_n_estimator(X_train, X_test, y_train, y_test, n):\n",
    "    mse_train = []\n",
    "    mse_test = []\n",
    "    for i in n:\n",
    "        rf = RandomForestClassifier(n_estimators=i, random_state=10).fit(X_train, y_train)\n",
    "        mse_train.append(mean_squared_error(y_train, rf.predict(X_train)))\n",
    "        mse_test.append(mean_squared_error(y_test, rf.predict(X_test)))\n",
    "    \n",
    "    fig, ax = plt.subplots(figsize=(8, 4))\n",
    "    ax.plot(n, mse_train, alpha=0.5, color='blue', label='train')\n",
    "    ax.plot(n, mse_test, alpha=0.5, color='red', label='test')\n",
    "    ax.set_ylabel(\"MSE\")\n",
    "    ax.set_xlabel(\"N_estimators\")"
   ]
  },
  {
   "cell_type": "code",
   "execution_count": 51,
   "id": "c186300d",
   "metadata": {},
   "outputs": [
    {
     "data": {
      "image/png": "[encoded data removed]",
      "text/plain": [
       "<Figure size 576x288 with 1 Axes>"
      ]
     },
     "metadata": {
      "needs_background": "light"
     },
     "output_type": "display_data"
    }
   ],
   "source": [
    "# The optimal number of trees \n",
    "from sklearn.ensemble import RandomForestClassifier    \n",
    "rf_best_n_estimator(X_train, X_test, y_train, y_test, [2, 5, 10, 15, 20])"
   ]
  },
  {
   "cell_type": "code",
   "execution_count": 52,
   "id": "95922123",
   "metadata": {},
   "outputs": [],
   "source": [
    "def rf_max_leaf_nodes(X_train, X_test, y_train, y_test, n):\n",
    "    mse_train = []\n",
    "    mse_test = []\n",
    "    for i in n:\n",
    "        rf = RandomForestClassifier(n_estimators=5, max_leaf_nodes =i, random_state=10).fit(X_train, y_train)\n",
    "        mse_train.append(mean_squared_error(y_train, rf.predict(X_train)))\n",
    "        mse_test.append(mean_squared_error(y_test, rf.predict(X_test)))\n",
    "    \n",
    "    fig, ax = plt.subplots(figsize=(8, 4))\n",
    "    ax.plot(n, mse_train, alpha=0.5, color='blue', label='train')\n",
    "    ax.plot(n, mse_test, alpha=0.5, color='red', label='test')\n",
    "    ax.set_ylabel(\"MSE\")\n",
    "    ax.set_xlabel(\"max_leaf_nodes\")"
   ]
  },
  {
   "cell_type": "code",
   "execution_count": 53,
   "id": "7d446e34",
   "metadata": {},
   "outputs": [
    {
     "data": {
      "image/png": "[encoded data removed]",
      "text/plain": [
       "<Figure size 576x288 with 1 Axes>"
      ]
     },
     "metadata": {
      "needs_background": "light"
     },
     "output_type": "display_data"
    }
   ],
   "source": [
    "# The optimal number of max_leaf_nodes\n",
    "rf_max_leaf_nodes(X_train, X_test, y_train, y_test, [2, 4, 6, 8, 10])"
   ]
  },
  {
   "cell_type": "markdown",
   "id": "b2b5f2cb",
   "metadata": {},
   "source": [
    "# Model"
   ]
  },
  {
   "cell_type": "code",
   "execution_count": 54,
   "id": "6625784f",
   "metadata": {},
   "outputs": [],
   "source": [
    "# Fitting Random Forest to the Training set\n",
    "from sklearn.ensemble import RandomForestClassifier\n",
    "rf = RandomForestClassifier(n_estimators = 2, max_leaf_nodes = 2, random_state = 10).fit(X_train, y_train)"
   ]
  },
  {
   "cell_type": "markdown",
   "id": "8eef497b",
   "metadata": {},
   "source": [
    "# Results"
   ]
  },
  {
   "cell_type": "code",
   "execution_count": 55,
   "id": "47d4a9d8",
   "metadata": {},
   "outputs": [
    {
     "data": {
      "text/plain": [
       "0.5"
      ]
     },
     "execution_count": 55,
     "metadata": {},
     "output_type": "execute_result"
    }
   ],
   "source": [
    "# Predicting the Test set results\n",
    "y_pred = rf.predict(X_test)\n",
    "y_pred = (y_pred > 0.5)\n",
    "rf.score(X_test,y_test).round(3)"
   ]
  },
  {
   "cell_type": "code",
   "execution_count": 56,
   "id": "92c16faf",
   "metadata": {},
   "outputs": [],
   "source": [
    "# Точность модели - 50%. "
   ]
  },
  {
   "cell_type": "code",
   "execution_count": 57,
   "id": "83a6c12d",
   "metadata": {},
   "outputs": [
    {
     "name": "stdout",
     "output_type": "stream",
     "text": [
      "[[6 2]\n",
      " [5 1]]\n"
     ]
    }
   ],
   "source": [
    "# Making the Confusion Matrix\n",
    "from sklearn.metrics import confusion_matrix\n",
    "cm = confusion_matrix(y_test, y_pred)\n",
    "print(cm)"
   ]
  },
  {
   "cell_type": "code",
   "execution_count": 58,
   "id": "f123f70f",
   "metadata": {},
   "outputs": [],
   "source": [
    "# На основе таблицы сопряженности, мы можем сделать вывод о том, что у нас 7 ложных срабатываний. \n",
    "# Часть неверно классифицированных случаев - 7/14 = 50%. \n",
    "# Точность модели - 7/14 = 50%\n",
    "# Чувствительность - 1/6 = 17% \n",
    "# Специфичность - 6/8 = 75% "
   ]
  },
  {
   "cell_type": "code",
   "execution_count": 59,
   "id": "693caf40",
   "metadata": {},
   "outputs": [
    {
     "ename": "ValueError",
     "evalue": "All arrays must be of the same length",
     "output_type": "error",
     "traceback": [
      "\u001b[1;31m---------------------------------------------------------------------------\u001b[0m",
      "\u001b[1;31mValueError\u001b[0m                                Traceback (most recent call last)",
      "\u001b[1;32m~\\AppData\\Local\\Temp/ipykernel_1728/4186729810.py\u001b[0m in \u001b[0;36m<module>\u001b[1;34m\u001b[0m\n\u001b[0;32m      1\u001b[0m \u001b[1;31m# Features importances\u001b[0m\u001b[1;33m\u001b[0m\u001b[1;33m\u001b[0m\u001b[1;33m\u001b[0m\u001b[0m\n\u001b[1;32m----> 2\u001b[1;33m \u001b[0mrf_imp\u001b[0m \u001b[1;33m=\u001b[0m \u001b[0mpd\u001b[0m\u001b[1;33m.\u001b[0m\u001b[0mDataFrame\u001b[0m\u001b[1;33m(\u001b[0m\u001b[1;33m{\u001b[0m\u001b[1;34m'imp'\u001b[0m\u001b[1;33m:\u001b[0m \u001b[0mrf\u001b[0m\u001b[1;33m.\u001b[0m\u001b[0mfeature_importances_\u001b[0m\u001b[1;33m,\u001b[0m \u001b[1;34m'col'\u001b[0m\u001b[1;33m:\u001b[0m \u001b[0mcol\u001b[0m\u001b[1;33m}\u001b[0m\u001b[1;33m)\u001b[0m\u001b[1;33m\u001b[0m\u001b[1;33m\u001b[0m\u001b[0m\n\u001b[0m\u001b[0;32m      3\u001b[0m \u001b[0mrf_imp\u001b[0m \u001b[1;33m=\u001b[0m \u001b[0mrf_imp\u001b[0m\u001b[1;33m.\u001b[0m\u001b[0msort_values\u001b[0m\u001b[1;33m(\u001b[0m\u001b[1;33m[\u001b[0m\u001b[1;34m'imp'\u001b[0m\u001b[1;33m,\u001b[0m \u001b[1;34m'col'\u001b[0m\u001b[1;33m]\u001b[0m\u001b[1;33m,\u001b[0m \u001b[0mascending\u001b[0m\u001b[1;33m=\u001b[0m\u001b[1;33m[\u001b[0m\u001b[1;32mTrue\u001b[0m\u001b[1;33m,\u001b[0m \u001b[1;32mFalse\u001b[0m\u001b[1;33m]\u001b[0m\u001b[1;33m)\u001b[0m\u001b[1;33m.\u001b[0m\u001b[0miloc\u001b[0m\u001b[1;33m[\u001b[0m\u001b[1;33m-\u001b[0m\u001b[1;36m25\u001b[0m\u001b[1;33m:\u001b[0m\u001b[1;33m]\u001b[0m\u001b[1;33m\u001b[0m\u001b[1;33m\u001b[0m\u001b[0m\n\u001b[0;32m      4\u001b[0m \u001b[0mrf_imp\u001b[0m\u001b[1;33m.\u001b[0m\u001b[0mplot\u001b[0m\u001b[1;33m(\u001b[0m\u001b[0mkind\u001b[0m\u001b[1;33m=\u001b[0m\u001b[1;34m'barh'\u001b[0m\u001b[1;33m,\u001b[0m \u001b[0mx\u001b[0m\u001b[1;33m=\u001b[0m\u001b[1;34m'col'\u001b[0m\u001b[1;33m,\u001b[0m \u001b[0my\u001b[0m\u001b[1;33m=\u001b[0m\u001b[1;34m'imp'\u001b[0m\u001b[1;33m,\u001b[0m \u001b[0mfigsize\u001b[0m\u001b[1;33m=\u001b[0m\u001b[1;33m(\u001b[0m\u001b[1;36m10\u001b[0m\u001b[1;33m,\u001b[0m \u001b[1;36m7\u001b[0m\u001b[1;33m)\u001b[0m\u001b[1;33m,\u001b[0m \u001b[0mlegend\u001b[0m\u001b[1;33m=\u001b[0m\u001b[1;32mNone\u001b[0m\u001b[1;33m)\u001b[0m\u001b[1;33m\u001b[0m\u001b[1;33m\u001b[0m\u001b[0m\n\u001b[0;32m      5\u001b[0m \u001b[0mplt\u001b[0m\u001b[1;33m.\u001b[0m\u001b[0mtitle\u001b[0m\u001b[1;33m(\u001b[0m\u001b[1;34m'Forest. Feature Importance'\u001b[0m\u001b[1;33m)\u001b[0m\u001b[1;33m\u001b[0m\u001b[1;33m\u001b[0m\u001b[0m\n",
      "\u001b[1;32m~\\anaconda3\\envs\\dlya lab\\lib\\site-packages\\pandas\\core\\frame.py\u001b[0m in \u001b[0;36m__init__\u001b[1;34m(self, data, index, columns, dtype, copy)\u001b[0m\n\u001b[0;32m    612\u001b[0m         \u001b[1;32melif\u001b[0m \u001b[0misinstance\u001b[0m\u001b[1;33m(\u001b[0m\u001b[0mdata\u001b[0m\u001b[1;33m,\u001b[0m \u001b[0mdict\u001b[0m\u001b[1;33m)\u001b[0m\u001b[1;33m:\u001b[0m\u001b[1;33m\u001b[0m\u001b[1;33m\u001b[0m\u001b[0m\n\u001b[0;32m    613\u001b[0m             \u001b[1;31m# GH#38939 de facto copy defaults to False only in non-dict cases\u001b[0m\u001b[1;33m\u001b[0m\u001b[1;33m\u001b[0m\u001b[1;33m\u001b[0m\u001b[0m\n\u001b[1;32m--> 614\u001b[1;33m             \u001b[0mmgr\u001b[0m \u001b[1;33m=\u001b[0m \u001b[0mdict_to_mgr\u001b[0m\u001b[1;33m(\u001b[0m\u001b[0mdata\u001b[0m\u001b[1;33m,\u001b[0m \u001b[0mindex\u001b[0m\u001b[1;33m,\u001b[0m \u001b[0mcolumns\u001b[0m\u001b[1;33m,\u001b[0m \u001b[0mdtype\u001b[0m\u001b[1;33m=\u001b[0m\u001b[0mdtype\u001b[0m\u001b[1;33m,\u001b[0m \u001b[0mcopy\u001b[0m\u001b[1;33m=\u001b[0m\u001b[0mcopy\u001b[0m\u001b[1;33m,\u001b[0m \u001b[0mtyp\u001b[0m\u001b[1;33m=\u001b[0m\u001b[0mmanager\u001b[0m\u001b[1;33m)\u001b[0m\u001b[1;33m\u001b[0m\u001b[1;33m\u001b[0m\u001b[0m\n\u001b[0m\u001b[0;32m    615\u001b[0m         \u001b[1;32melif\u001b[0m \u001b[0misinstance\u001b[0m\u001b[1;33m(\u001b[0m\u001b[0mdata\u001b[0m\u001b[1;33m,\u001b[0m \u001b[0mma\u001b[0m\u001b[1;33m.\u001b[0m\u001b[0mMaskedArray\u001b[0m\u001b[1;33m)\u001b[0m\u001b[1;33m:\u001b[0m\u001b[1;33m\u001b[0m\u001b[1;33m\u001b[0m\u001b[0m\n\u001b[0;32m    616\u001b[0m             \u001b[1;32mimport\u001b[0m \u001b[0mnumpy\u001b[0m\u001b[1;33m.\u001b[0m\u001b[0mma\u001b[0m\u001b[1;33m.\u001b[0m\u001b[0mmrecords\u001b[0m \u001b[1;32mas\u001b[0m \u001b[0mmrecords\u001b[0m\u001b[1;33m\u001b[0m\u001b[1;33m\u001b[0m\u001b[0m\n",
      "\u001b[1;32m~\\anaconda3\\envs\\dlya lab\\lib\\site-packages\\pandas\\core\\internals\\construction.py\u001b[0m in \u001b[0;36mdict_to_mgr\u001b[1;34m(data, index, columns, dtype, typ, copy)\u001b[0m\n\u001b[0;32m    462\u001b[0m         \u001b[1;31m# TODO: can we get rid of the dt64tz special case above?\u001b[0m\u001b[1;33m\u001b[0m\u001b[1;33m\u001b[0m\u001b[1;33m\u001b[0m\u001b[0m\n\u001b[0;32m    463\u001b[0m \u001b[1;33m\u001b[0m\u001b[0m\n\u001b[1;32m--> 464\u001b[1;33m     return arrays_to_mgr(\n\u001b[0m\u001b[0;32m    465\u001b[0m         \u001b[0marrays\u001b[0m\u001b[1;33m,\u001b[0m \u001b[0mdata_names\u001b[0m\u001b[1;33m,\u001b[0m \u001b[0mindex\u001b[0m\u001b[1;33m,\u001b[0m \u001b[0mcolumns\u001b[0m\u001b[1;33m,\u001b[0m \u001b[0mdtype\u001b[0m\u001b[1;33m=\u001b[0m\u001b[0mdtype\u001b[0m\u001b[1;33m,\u001b[0m \u001b[0mtyp\u001b[0m\u001b[1;33m=\u001b[0m\u001b[0mtyp\u001b[0m\u001b[1;33m,\u001b[0m \u001b[0mconsolidate\u001b[0m\u001b[1;33m=\u001b[0m\u001b[0mcopy\u001b[0m\u001b[1;33m\u001b[0m\u001b[1;33m\u001b[0m\u001b[0m\n\u001b[0;32m    466\u001b[0m     )\n",
      "\u001b[1;32m~\\anaconda3\\envs\\dlya lab\\lib\\site-packages\\pandas\\core\\internals\\construction.py\u001b[0m in \u001b[0;36marrays_to_mgr\u001b[1;34m(arrays, arr_names, index, columns, dtype, verify_integrity, typ, consolidate)\u001b[0m\n\u001b[0;32m    117\u001b[0m         \u001b[1;31m# figure out the index, if necessary\u001b[0m\u001b[1;33m\u001b[0m\u001b[1;33m\u001b[0m\u001b[1;33m\u001b[0m\u001b[0m\n\u001b[0;32m    118\u001b[0m         \u001b[1;32mif\u001b[0m \u001b[0mindex\u001b[0m \u001b[1;32mis\u001b[0m \u001b[1;32mNone\u001b[0m\u001b[1;33m:\u001b[0m\u001b[1;33m\u001b[0m\u001b[1;33m\u001b[0m\u001b[0m\n\u001b[1;32m--> 119\u001b[1;33m             \u001b[0mindex\u001b[0m \u001b[1;33m=\u001b[0m \u001b[0m_extract_index\u001b[0m\u001b[1;33m(\u001b[0m\u001b[0marrays\u001b[0m\u001b[1;33m)\u001b[0m\u001b[1;33m\u001b[0m\u001b[1;33m\u001b[0m\u001b[0m\n\u001b[0m\u001b[0;32m    120\u001b[0m         \u001b[1;32melse\u001b[0m\u001b[1;33m:\u001b[0m\u001b[1;33m\u001b[0m\u001b[1;33m\u001b[0m\u001b[0m\n\u001b[0;32m    121\u001b[0m             \u001b[0mindex\u001b[0m \u001b[1;33m=\u001b[0m \u001b[0mensure_index\u001b[0m\u001b[1;33m(\u001b[0m\u001b[0mindex\u001b[0m\u001b[1;33m)\u001b[0m\u001b[1;33m\u001b[0m\u001b[1;33m\u001b[0m\u001b[0m\n",
      "\u001b[1;32m~\\anaconda3\\envs\\dlya lab\\lib\\site-packages\\pandas\\core\\internals\\construction.py\u001b[0m in \u001b[0;36m_extract_index\u001b[1;34m(data)\u001b[0m\n\u001b[0;32m    633\u001b[0m             \u001b[0mlengths\u001b[0m \u001b[1;33m=\u001b[0m \u001b[0mlist\u001b[0m\u001b[1;33m(\u001b[0m\u001b[0mset\u001b[0m\u001b[1;33m(\u001b[0m\u001b[0mraw_lengths\u001b[0m\u001b[1;33m)\u001b[0m\u001b[1;33m)\u001b[0m\u001b[1;33m\u001b[0m\u001b[1;33m\u001b[0m\u001b[0m\n\u001b[0;32m    634\u001b[0m             \u001b[1;32mif\u001b[0m \u001b[0mlen\u001b[0m\u001b[1;33m(\u001b[0m\u001b[0mlengths\u001b[0m\u001b[1;33m)\u001b[0m \u001b[1;33m>\u001b[0m \u001b[1;36m1\u001b[0m\u001b[1;33m:\u001b[0m\u001b[1;33m\u001b[0m\u001b[1;33m\u001b[0m\u001b[0m\n\u001b[1;32m--> 635\u001b[1;33m                 \u001b[1;32mraise\u001b[0m \u001b[0mValueError\u001b[0m\u001b[1;33m(\u001b[0m\u001b[1;34m\"All arrays must be of the same length\"\u001b[0m\u001b[1;33m)\u001b[0m\u001b[1;33m\u001b[0m\u001b[1;33m\u001b[0m\u001b[0m\n\u001b[0m\u001b[0;32m    636\u001b[0m \u001b[1;33m\u001b[0m\u001b[0m\n\u001b[0;32m    637\u001b[0m             \u001b[1;32mif\u001b[0m \u001b[0mhave_dicts\u001b[0m\u001b[1;33m:\u001b[0m\u001b[1;33m\u001b[0m\u001b[1;33m\u001b[0m\u001b[0m\n",
      "\u001b[1;31mValueError\u001b[0m: All arrays must be of the same length"
     ]
    }
   ],
   "source": [
    "# Features importances\n",
    "rf_imp = pd.DataFrame({'imp': rf.feature_importances_, 'col': col})\n",
    "rf_imp = rf_imp.sort_values(['imp', 'col'], ascending=[True, False]).iloc[-25:]\n",
    "rf_imp.plot(kind='barh', x='col', y='imp', figsize=(10, 7), legend=None)\n",
    "plt.title('Forest. Feature Importance')"
   ]
  },
  {
   "cell_type": "markdown",
   "id": "0cffb3ca",
   "metadata": {},
   "source": [
    "# Visualisation"
   ]
  },
  {
   "cell_type": "code",
   "execution_count": 60,
   "id": "03a1fca1",
   "metadata": {},
   "outputs": [
    {
     "ename": "ValueError",
     "evalue": "X has 2 features, but RandomForestClassifier is expecting 13 features as input.",
     "output_type": "error",
     "traceback": [
      "\u001b[1;31m---------------------------------------------------------------------------\u001b[0m",
      "\u001b[1;31mValueError\u001b[0m                                Traceback (most recent call last)",
      "\u001b[1;32m~\\AppData\\Local\\Temp/ipykernel_1728/3209551594.py\u001b[0m in \u001b[0;36m<module>\u001b[1;34m\u001b[0m\n\u001b[0;32m      3\u001b[0m X1, X2 = np.meshgrid(np.arange(start = X_set[:, 0].min() - 1, stop = X_set[:, 0].max() + 1, step = 0.01),\n\u001b[0;32m      4\u001b[0m                      np.arange(start = X_set[:, 1].min() - 1, stop = X_set[:, 1].max() + 1, step = 0.01))\n\u001b[1;32m----> 5\u001b[1;33m plt.contourf(X1, X2, rf.predict(np.array([X1.ravel(), X2.ravel()]).T).reshape(X1.shape),\n\u001b[0m\u001b[0;32m      6\u001b[0m              alpha = 0.75, cmap = ListedColormap(('red', 'green')))\n\u001b[0;32m      7\u001b[0m \u001b[0mplt\u001b[0m\u001b[1;33m.\u001b[0m\u001b[0mxlim\u001b[0m\u001b[1;33m(\u001b[0m\u001b[0mX1\u001b[0m\u001b[1;33m.\u001b[0m\u001b[0mmin\u001b[0m\u001b[1;33m(\u001b[0m\u001b[1;33m)\u001b[0m\u001b[1;33m,\u001b[0m \u001b[0mX1\u001b[0m\u001b[1;33m.\u001b[0m\u001b[0mmax\u001b[0m\u001b[1;33m(\u001b[0m\u001b[1;33m)\u001b[0m\u001b[1;33m)\u001b[0m\u001b[1;33m\u001b[0m\u001b[1;33m\u001b[0m\u001b[0m\n",
      "\u001b[1;32m~\\anaconda3\\envs\\dlya lab\\lib\\site-packages\\sklearn\\ensemble\\_forest.py\u001b[0m in \u001b[0;36mpredict\u001b[1;34m(self, X)\u001b[0m\n\u001b[0;32m    796\u001b[0m             \u001b[0mThe\u001b[0m \u001b[0mpredicted\u001b[0m \u001b[0mclasses\u001b[0m\u001b[1;33m.\u001b[0m\u001b[1;33m\u001b[0m\u001b[1;33m\u001b[0m\u001b[0m\n\u001b[0;32m    797\u001b[0m         \"\"\"\n\u001b[1;32m--> 798\u001b[1;33m         \u001b[0mproba\u001b[0m \u001b[1;33m=\u001b[0m \u001b[0mself\u001b[0m\u001b[1;33m.\u001b[0m\u001b[0mpredict_proba\u001b[0m\u001b[1;33m(\u001b[0m\u001b[0mX\u001b[0m\u001b[1;33m)\u001b[0m\u001b[1;33m\u001b[0m\u001b[1;33m\u001b[0m\u001b[0m\n\u001b[0m\u001b[0;32m    799\u001b[0m \u001b[1;33m\u001b[0m\u001b[0m\n\u001b[0;32m    800\u001b[0m         \u001b[1;32mif\u001b[0m \u001b[0mself\u001b[0m\u001b[1;33m.\u001b[0m\u001b[0mn_outputs_\u001b[0m \u001b[1;33m==\u001b[0m \u001b[1;36m1\u001b[0m\u001b[1;33m:\u001b[0m\u001b[1;33m\u001b[0m\u001b[1;33m\u001b[0m\u001b[0m\n",
      "\u001b[1;32m~\\anaconda3\\envs\\dlya lab\\lib\\site-packages\\sklearn\\ensemble\\_forest.py\u001b[0m in \u001b[0;36mpredict_proba\u001b[1;34m(self, X)\u001b[0m\n\u001b[0;32m    838\u001b[0m         \u001b[0mcheck_is_fitted\u001b[0m\u001b[1;33m(\u001b[0m\u001b[0mself\u001b[0m\u001b[1;33m)\u001b[0m\u001b[1;33m\u001b[0m\u001b[1;33m\u001b[0m\u001b[0m\n\u001b[0;32m    839\u001b[0m         \u001b[1;31m# Check data\u001b[0m\u001b[1;33m\u001b[0m\u001b[1;33m\u001b[0m\u001b[1;33m\u001b[0m\u001b[0m\n\u001b[1;32m--> 840\u001b[1;33m         \u001b[0mX\u001b[0m \u001b[1;33m=\u001b[0m \u001b[0mself\u001b[0m\u001b[1;33m.\u001b[0m\u001b[0m_validate_X_predict\u001b[0m\u001b[1;33m(\u001b[0m\u001b[0mX\u001b[0m\u001b[1;33m)\u001b[0m\u001b[1;33m\u001b[0m\u001b[1;33m\u001b[0m\u001b[0m\n\u001b[0m\u001b[0;32m    841\u001b[0m \u001b[1;33m\u001b[0m\u001b[0m\n\u001b[0;32m    842\u001b[0m         \u001b[1;31m# Assign chunk of trees to jobs\u001b[0m\u001b[1;33m\u001b[0m\u001b[1;33m\u001b[0m\u001b[1;33m\u001b[0m\u001b[0m\n",
      "\u001b[1;32m~\\anaconda3\\envs\\dlya lab\\lib\\site-packages\\sklearn\\ensemble\\_forest.py\u001b[0m in \u001b[0;36m_validate_X_predict\u001b[1;34m(self, X)\u001b[0m\n\u001b[0;32m    567\u001b[0m         Validate X whenever one tries to predict, apply, predict_proba.\"\"\"\n\u001b[0;32m    568\u001b[0m         \u001b[0mcheck_is_fitted\u001b[0m\u001b[1;33m(\u001b[0m\u001b[0mself\u001b[0m\u001b[1;33m)\u001b[0m\u001b[1;33m\u001b[0m\u001b[1;33m\u001b[0m\u001b[0m\n\u001b[1;32m--> 569\u001b[1;33m         \u001b[0mX\u001b[0m \u001b[1;33m=\u001b[0m \u001b[0mself\u001b[0m\u001b[1;33m.\u001b[0m\u001b[0m_validate_data\u001b[0m\u001b[1;33m(\u001b[0m\u001b[0mX\u001b[0m\u001b[1;33m,\u001b[0m \u001b[0mdtype\u001b[0m\u001b[1;33m=\u001b[0m\u001b[0mDTYPE\u001b[0m\u001b[1;33m,\u001b[0m \u001b[0maccept_sparse\u001b[0m\u001b[1;33m=\u001b[0m\u001b[1;34m\"csr\"\u001b[0m\u001b[1;33m,\u001b[0m \u001b[0mreset\u001b[0m\u001b[1;33m=\u001b[0m\u001b[1;32mFalse\u001b[0m\u001b[1;33m)\u001b[0m\u001b[1;33m\u001b[0m\u001b[1;33m\u001b[0m\u001b[0m\n\u001b[0m\u001b[0;32m    570\u001b[0m         \u001b[1;32mif\u001b[0m \u001b[0missparse\u001b[0m\u001b[1;33m(\u001b[0m\u001b[0mX\u001b[0m\u001b[1;33m)\u001b[0m \u001b[1;32mand\u001b[0m \u001b[1;33m(\u001b[0m\u001b[0mX\u001b[0m\u001b[1;33m.\u001b[0m\u001b[0mindices\u001b[0m\u001b[1;33m.\u001b[0m\u001b[0mdtype\u001b[0m \u001b[1;33m!=\u001b[0m \u001b[0mnp\u001b[0m\u001b[1;33m.\u001b[0m\u001b[0mintc\u001b[0m \u001b[1;32mor\u001b[0m \u001b[0mX\u001b[0m\u001b[1;33m.\u001b[0m\u001b[0mindptr\u001b[0m\u001b[1;33m.\u001b[0m\u001b[0mdtype\u001b[0m \u001b[1;33m!=\u001b[0m \u001b[0mnp\u001b[0m\u001b[1;33m.\u001b[0m\u001b[0mintc\u001b[0m\u001b[1;33m)\u001b[0m\u001b[1;33m:\u001b[0m\u001b[1;33m\u001b[0m\u001b[1;33m\u001b[0m\u001b[0m\n\u001b[0;32m    571\u001b[0m             \u001b[1;32mraise\u001b[0m \u001b[0mValueError\u001b[0m\u001b[1;33m(\u001b[0m\u001b[1;34m\"No support for np.int64 index based sparse matrices\"\u001b[0m\u001b[1;33m)\u001b[0m\u001b[1;33m\u001b[0m\u001b[1;33m\u001b[0m\u001b[0m\n",
      "\u001b[1;32m~\\anaconda3\\envs\\dlya lab\\lib\\site-packages\\sklearn\\base.py\u001b[0m in \u001b[0;36m_validate_data\u001b[1;34m(self, X, y, reset, validate_separately, **check_params)\u001b[0m\n\u001b[0;32m    578\u001b[0m \u001b[1;33m\u001b[0m\u001b[0m\n\u001b[0;32m    579\u001b[0m         \u001b[1;32mif\u001b[0m \u001b[1;32mnot\u001b[0m \u001b[0mno_val_X\u001b[0m \u001b[1;32mand\u001b[0m \u001b[0mcheck_params\u001b[0m\u001b[1;33m.\u001b[0m\u001b[0mget\u001b[0m\u001b[1;33m(\u001b[0m\u001b[1;34m\"ensure_2d\"\u001b[0m\u001b[1;33m,\u001b[0m \u001b[1;32mTrue\u001b[0m\u001b[1;33m)\u001b[0m\u001b[1;33m:\u001b[0m\u001b[1;33m\u001b[0m\u001b[1;33m\u001b[0m\u001b[0m\n\u001b[1;32m--> 580\u001b[1;33m             \u001b[0mself\u001b[0m\u001b[1;33m.\u001b[0m\u001b[0m_check_n_features\u001b[0m\u001b[1;33m(\u001b[0m\u001b[0mX\u001b[0m\u001b[1;33m,\u001b[0m \u001b[0mreset\u001b[0m\u001b[1;33m=\u001b[0m\u001b[0mreset\u001b[0m\u001b[1;33m)\u001b[0m\u001b[1;33m\u001b[0m\u001b[1;33m\u001b[0m\u001b[0m\n\u001b[0m\u001b[0;32m    581\u001b[0m \u001b[1;33m\u001b[0m\u001b[0m\n\u001b[0;32m    582\u001b[0m         \u001b[1;32mreturn\u001b[0m \u001b[0mout\u001b[0m\u001b[1;33m\u001b[0m\u001b[1;33m\u001b[0m\u001b[0m\n",
      "\u001b[1;32m~\\anaconda3\\envs\\dlya lab\\lib\\site-packages\\sklearn\\base.py\u001b[0m in \u001b[0;36m_check_n_features\u001b[1;34m(self, X, reset)\u001b[0m\n\u001b[0;32m    393\u001b[0m \u001b[1;33m\u001b[0m\u001b[0m\n\u001b[0;32m    394\u001b[0m         \u001b[1;32mif\u001b[0m \u001b[0mn_features\u001b[0m \u001b[1;33m!=\u001b[0m \u001b[0mself\u001b[0m\u001b[1;33m.\u001b[0m\u001b[0mn_features_in_\u001b[0m\u001b[1;33m:\u001b[0m\u001b[1;33m\u001b[0m\u001b[1;33m\u001b[0m\u001b[0m\n\u001b[1;32m--> 395\u001b[1;33m             raise ValueError(\n\u001b[0m\u001b[0;32m    396\u001b[0m                 \u001b[1;34mf\"X has {n_features} features, but {self.__class__.__name__} \"\u001b[0m\u001b[1;33m\u001b[0m\u001b[1;33m\u001b[0m\u001b[0m\n\u001b[0;32m    397\u001b[0m                 \u001b[1;34mf\"is expecting {self.n_features_in_} features as input.\"\u001b[0m\u001b[1;33m\u001b[0m\u001b[1;33m\u001b[0m\u001b[0m\n",
      "\u001b[1;31mValueError\u001b[0m: X has 2 features, but RandomForestClassifier is expecting 13 features as input."
     ]
    }
   ],
   "source": [
    "# Visualising the Test set results\n",
    "X_set, y_set = X_test, y_test\n",
    "X1, X2 = np.meshgrid(np.arange(start = X_set[:, 0].min() - 1, stop = X_set[:, 0].max() + 1, step = 0.01),\n",
    "                     np.arange(start = X_set[:, 1].min() - 1, stop = X_set[:, 1].max() + 1, step = 0.01))\n",
    "plt.contourf(X1, X2, rf.predict(np.array([X1.ravel(), X2.ravel()]).T).reshape(X1.shape),\n",
    "             alpha = 0.75, cmap = ListedColormap(('red', 'green')))\n",
    "plt.xlim(X1.min(), X1.max())\n",
    "plt.ylim(X2.min(), X2.max())\n",
    "for i, j in enumerate(np.unique(y_set)):\n",
    "    plt.scatter(X_set[y_set == j, 0], X_set[y_set == j, 1],\n",
    "                c = ListedColormap(('red', 'green'))(i), label = j)\n",
    "plt.title('Random Forest (Test set)')\n",
    "plt.xlabel('Населення')\n",
    "plt.ylabel('Количество_чеков')\n",
    "plt.legend()\n",
    "plt.show()"
   ]
  },
  {
   "cell_type": "markdown",
   "id": "92816723",
   "metadata": {},
   "source": [
    "# Hierarchical Clustering"
   ]
  },
  {
   "cell_type": "code",
   "execution_count": 61,
   "id": "a90c8247",
   "metadata": {},
   "outputs": [
    {
     "data": {
      "text/html": [
       "<div>\n",
       "<style scoped>\n",
       "    .dataframe tbody tr th:only-of-type {\n",
       "        vertical-align: middle;\n",
       "    }\n",
       "\n",
       "    .dataframe tbody tr th {\n",
       "        vertical-align: top;\n",
       "    }\n",
       "\n",
       "    .dataframe thead th {\n",
       "        text-align: right;\n",
       "    }\n",
       "</style>\n",
       "<table border=\"1\" class=\"dataframe\">\n",
       "  <thead>\n",
       "    <tr style=\"text-align: right;\">\n",
       "      <th></th>\n",
       "      <th>Успех</th>\n",
       "      <th>Торговельна_площа_кв_м</th>\n",
       "      <th>Количество_касс</th>\n",
       "      <th>Тип</th>\n",
       "      <th>Рейтинг_в_гуглі</th>\n",
       "      <th>Количество_чеков</th>\n",
       "      <th>Средний_чек</th>\n",
       "      <th>Населення</th>\n",
       "      <th>Середній_дохід_населення</th>\n",
       "      <th>Спец_мясо</th>\n",
       "      <th>Спец_сир</th>\n",
       "      <th>Спец_поб_хімія</th>\n",
       "      <th>Супермаркет</th>\n",
       "      <th>Магазин_біля_дому</th>\n",
       "    </tr>\n",
       "  </thead>\n",
       "  <tbody>\n",
       "    <tr>\n",
       "      <th>0</th>\n",
       "      <td>0</td>\n",
       "      <td>9.000000</td>\n",
       "      <td>1.0</td>\n",
       "      <td>2</td>\n",
       "      <td>3.0</td>\n",
       "      <td>659.0</td>\n",
       "      <td>77.000000</td>\n",
       "      <td>108.0</td>\n",
       "      <td>14910.0</td>\n",
       "      <td>1</td>\n",
       "      <td>1</td>\n",
       "      <td>0</td>\n",
       "      <td>1</td>\n",
       "      <td>1</td>\n",
       "    </tr>\n",
       "    <tr>\n",
       "      <th>1</th>\n",
       "      <td>0</td>\n",
       "      <td>22.000000</td>\n",
       "      <td>1.0</td>\n",
       "      <td>2</td>\n",
       "      <td>4.1</td>\n",
       "      <td>1518.0</td>\n",
       "      <td>85.000000</td>\n",
       "      <td>750.0</td>\n",
       "      <td>9030.0</td>\n",
       "      <td>0</td>\n",
       "      <td>0</td>\n",
       "      <td>0</td>\n",
       "      <td>1</td>\n",
       "      <td>1</td>\n",
       "    </tr>\n",
       "    <tr>\n",
       "      <th>2</th>\n",
       "      <td>0</td>\n",
       "      <td>13.000000</td>\n",
       "      <td>1.0</td>\n",
       "      <td>2</td>\n",
       "      <td>3.0</td>\n",
       "      <td>476.0</td>\n",
       "      <td>112.000000</td>\n",
       "      <td>0.0</td>\n",
       "      <td>9030.0</td>\n",
       "      <td>0</td>\n",
       "      <td>0</td>\n",
       "      <td>0</td>\n",
       "      <td>0</td>\n",
       "      <td>0</td>\n",
       "    </tr>\n",
       "    <tr>\n",
       "      <th>3</th>\n",
       "      <td>0</td>\n",
       "      <td>18.000000</td>\n",
       "      <td>1.0</td>\n",
       "      <td>2</td>\n",
       "      <td>3.0</td>\n",
       "      <td>1310.0</td>\n",
       "      <td>120.000000</td>\n",
       "      <td>0.0</td>\n",
       "      <td>13930.0</td>\n",
       "      <td>1</td>\n",
       "      <td>0</td>\n",
       "      <td>0</td>\n",
       "      <td>1</td>\n",
       "      <td>1</td>\n",
       "    </tr>\n",
       "    <tr>\n",
       "      <th>4</th>\n",
       "      <td>0</td>\n",
       "      <td>25.000000</td>\n",
       "      <td>1.0</td>\n",
       "      <td>1</td>\n",
       "      <td>4.0</td>\n",
       "      <td>2029.0</td>\n",
       "      <td>95.000000</td>\n",
       "      <td>0.0</td>\n",
       "      <td>14560.0</td>\n",
       "      <td>0</td>\n",
       "      <td>0</td>\n",
       "      <td>0</td>\n",
       "      <td>0</td>\n",
       "      <td>0</td>\n",
       "    </tr>\n",
       "    <tr>\n",
       "      <th>...</th>\n",
       "      <td>...</td>\n",
       "      <td>...</td>\n",
       "      <td>...</td>\n",
       "      <td>...</td>\n",
       "      <td>...</td>\n",
       "      <td>...</td>\n",
       "      <td>...</td>\n",
       "      <td>...</td>\n",
       "      <td>...</td>\n",
       "      <td>...</td>\n",
       "      <td>...</td>\n",
       "      <td>...</td>\n",
       "      <td>...</td>\n",
       "      <td>...</td>\n",
       "    </tr>\n",
       "    <tr>\n",
       "      <th>62</th>\n",
       "      <td>1</td>\n",
       "      <td>40.780000</td>\n",
       "      <td>2.0</td>\n",
       "      <td>1</td>\n",
       "      <td>4.0</td>\n",
       "      <td>6884.0</td>\n",
       "      <td>107.000000</td>\n",
       "      <td>963.0</td>\n",
       "      <td>9800.0</td>\n",
       "      <td>0</td>\n",
       "      <td>0</td>\n",
       "      <td>1</td>\n",
       "      <td>0</td>\n",
       "      <td>0</td>\n",
       "    </tr>\n",
       "    <tr>\n",
       "      <th>63</th>\n",
       "      <td>1</td>\n",
       "      <td>21.500000</td>\n",
       "      <td>1.0</td>\n",
       "      <td>1</td>\n",
       "      <td>2.3</td>\n",
       "      <td>4721.0</td>\n",
       "      <td>89.000000</td>\n",
       "      <td>0.0</td>\n",
       "      <td>12600.0</td>\n",
       "      <td>1</td>\n",
       "      <td>1</td>\n",
       "      <td>1</td>\n",
       "      <td>0</td>\n",
       "      <td>0</td>\n",
       "    </tr>\n",
       "    <tr>\n",
       "      <th>64</th>\n",
       "      <td>0</td>\n",
       "      <td>91.829993</td>\n",
       "      <td>1.0</td>\n",
       "      <td>2</td>\n",
       "      <td>3.0</td>\n",
       "      <td>3286.0</td>\n",
       "      <td>106.000000</td>\n",
       "      <td>315.0</td>\n",
       "      <td>10570.0</td>\n",
       "      <td>0</td>\n",
       "      <td>0</td>\n",
       "      <td>0</td>\n",
       "      <td>0</td>\n",
       "      <td>1</td>\n",
       "    </tr>\n",
       "    <tr>\n",
       "      <th>65</th>\n",
       "      <td>0</td>\n",
       "      <td>34.800000</td>\n",
       "      <td>2.0</td>\n",
       "      <td>1</td>\n",
       "      <td>4.3</td>\n",
       "      <td>3963.0</td>\n",
       "      <td>149.233295</td>\n",
       "      <td>0.0</td>\n",
       "      <td>12460.0</td>\n",
       "      <td>1</td>\n",
       "      <td>1</td>\n",
       "      <td>0</td>\n",
       "      <td>0</td>\n",
       "      <td>0</td>\n",
       "    </tr>\n",
       "    <tr>\n",
       "      <th>66</th>\n",
       "      <td>1</td>\n",
       "      <td>22.000000</td>\n",
       "      <td>1.0</td>\n",
       "      <td>1</td>\n",
       "      <td>4.9</td>\n",
       "      <td>4200.0</td>\n",
       "      <td>102.000000</td>\n",
       "      <td>678.0</td>\n",
       "      <td>10430.0</td>\n",
       "      <td>1</td>\n",
       "      <td>1</td>\n",
       "      <td>0</td>\n",
       "      <td>0</td>\n",
       "      <td>0</td>\n",
       "    </tr>\n",
       "  </tbody>\n",
       "</table>\n",
       "<p>67 rows × 14 columns</p>\n",
       "</div>"
      ],
      "text/plain": [
       "    Успех  Торговельна_площа_кв_м  Количество_касс  Тип  Рейтинг_в_гуглі  \\\n",
       "0       0                9.000000              1.0    2              3.0   \n",
       "1       0               22.000000              1.0    2              4.1   \n",
       "2       0               13.000000              1.0    2              3.0   \n",
       "3       0               18.000000              1.0    2              3.0   \n",
       "4       0               25.000000              1.0    1              4.0   \n",
       "..    ...                     ...              ...  ...              ...   \n",
       "62      1               40.780000              2.0    1              4.0   \n",
       "63      1               21.500000              1.0    1              2.3   \n",
       "64      0               91.829993              1.0    2              3.0   \n",
       "65      0               34.800000              2.0    1              4.3   \n",
       "66      1               22.000000              1.0    1              4.9   \n",
       "\n",
       "    Количество_чеков  Средний_чек  Населення  Середній_дохід_населення  \\\n",
       "0              659.0    77.000000      108.0                   14910.0   \n",
       "1             1518.0    85.000000      750.0                    9030.0   \n",
       "2              476.0   112.000000        0.0                    9030.0   \n",
       "3             1310.0   120.000000        0.0                   13930.0   \n",
       "4             2029.0    95.000000        0.0                   14560.0   \n",
       "..               ...          ...        ...                       ...   \n",
       "62            6884.0   107.000000      963.0                    9800.0   \n",
       "63            4721.0    89.000000        0.0                   12600.0   \n",
       "64            3286.0   106.000000      315.0                   10570.0   \n",
       "65            3963.0   149.233295        0.0                   12460.0   \n",
       "66            4200.0   102.000000      678.0                   10430.0   \n",
       "\n",
       "    Спец_мясо  Спец_сир  Спец_поб_хімія  Супермаркет  Магазин_біля_дому  \n",
       "0           1         1               0            1                  1  \n",
       "1           0         0               0            1                  1  \n",
       "2           0         0               0            0                  0  \n",
       "3           1         0               0            1                  1  \n",
       "4           0         0               0            0                  0  \n",
       "..        ...       ...             ...          ...                ...  \n",
       "62          0         0               1            0                  0  \n",
       "63          1         1               1            0                  0  \n",
       "64          0         0               0            0                  1  \n",
       "65          1         1               0            0                  0  \n",
       "66          1         1               0            0                  0  \n",
       "\n",
       "[67 rows x 14 columns]"
      ]
     },
     "execution_count": 61,
     "metadata": {},
     "output_type": "execute_result"
    }
   ],
   "source": [
    "df = pd.read_csv('KR2_prep.csv', sep=';')\n",
    "df"
   ]
  },
  {
   "cell_type": "code",
   "execution_count": 62,
   "id": "e78a26aa",
   "metadata": {},
   "outputs": [
    {
     "data": {
      "text/html": [
       "<div>\n",
       "<style scoped>\n",
       "    .dataframe tbody tr th:only-of-type {\n",
       "        vertical-align: middle;\n",
       "    }\n",
       "\n",
       "    .dataframe tbody tr th {\n",
       "        vertical-align: top;\n",
       "    }\n",
       "\n",
       "    .dataframe thead th {\n",
       "        text-align: right;\n",
       "    }\n",
       "</style>\n",
       "<table border=\"1\" class=\"dataframe\">\n",
       "  <thead>\n",
       "    <tr style=\"text-align: right;\">\n",
       "      <th></th>\n",
       "      <th>Успех</th>\n",
       "      <th>Торговельна_площа_кв_м</th>\n",
       "      <th>Количество_касс</th>\n",
       "      <th>Тип</th>\n",
       "      <th>Рейтинг_в_гуглі</th>\n",
       "      <th>Количество_чеков</th>\n",
       "      <th>Средний_чек</th>\n",
       "      <th>Населення</th>\n",
       "      <th>Середній_дохід_населення</th>\n",
       "      <th>Спец_мясо</th>\n",
       "      <th>Спец_сир</th>\n",
       "      <th>Спец_поб_хімія</th>\n",
       "      <th>Супермаркет</th>\n",
       "      <th>Магазин_біля_дому</th>\n",
       "    </tr>\n",
       "  </thead>\n",
       "  <tbody>\n",
       "    <tr>\n",
       "      <th>count</th>\n",
       "      <td>67.000000</td>\n",
       "      <td>67.000000</td>\n",
       "      <td>67.000000</td>\n",
       "      <td>67.000000</td>\n",
       "      <td>67.000000</td>\n",
       "      <td>67.000000</td>\n",
       "      <td>67.000000</td>\n",
       "      <td>67.000000</td>\n",
       "      <td>67.000000</td>\n",
       "      <td>67.000000</td>\n",
       "      <td>67.000000</td>\n",
       "      <td>67.000000</td>\n",
       "      <td>67.000000</td>\n",
       "      <td>67.000000</td>\n",
       "    </tr>\n",
       "    <tr>\n",
       "      <th>mean</th>\n",
       "      <td>0.358209</td>\n",
       "      <td>33.274746</td>\n",
       "      <td>1.217728</td>\n",
       "      <td>1.298507</td>\n",
       "      <td>3.792537</td>\n",
       "      <td>4033.716418</td>\n",
       "      <td>95.048258</td>\n",
       "      <td>304.343284</td>\n",
       "      <td>11765.671642</td>\n",
       "      <td>0.283582</td>\n",
       "      <td>0.223881</td>\n",
       "      <td>0.238806</td>\n",
       "      <td>0.208955</td>\n",
       "      <td>0.313433</td>\n",
       "    </tr>\n",
       "    <tr>\n",
       "      <th>std</th>\n",
       "      <td>0.483093</td>\n",
       "      <td>17.631170</td>\n",
       "      <td>0.432486</td>\n",
       "      <td>0.492825</td>\n",
       "      <td>0.698117</td>\n",
       "      <td>2219.394053</td>\n",
       "      <td>16.934855</td>\n",
       "      <td>311.679301</td>\n",
       "      <td>1570.517791</td>\n",
       "      <td>0.454138</td>\n",
       "      <td>0.419989</td>\n",
       "      <td>0.429572</td>\n",
       "      <td>0.409631</td>\n",
       "      <td>0.467390</td>\n",
       "    </tr>\n",
       "    <tr>\n",
       "      <th>min</th>\n",
       "      <td>0.000000</td>\n",
       "      <td>4.000000</td>\n",
       "      <td>1.000000</td>\n",
       "      <td>0.000000</td>\n",
       "      <td>1.800000</td>\n",
       "      <td>476.000000</td>\n",
       "      <td>65.000000</td>\n",
       "      <td>0.000000</td>\n",
       "      <td>9030.000000</td>\n",
       "      <td>0.000000</td>\n",
       "      <td>0.000000</td>\n",
       "      <td>0.000000</td>\n",
       "      <td>0.000000</td>\n",
       "      <td>0.000000</td>\n",
       "    </tr>\n",
       "    <tr>\n",
       "      <th>25%</th>\n",
       "      <td>0.000000</td>\n",
       "      <td>21.750000</td>\n",
       "      <td>1.000000</td>\n",
       "      <td>1.000000</td>\n",
       "      <td>3.000000</td>\n",
       "      <td>2205.500000</td>\n",
       "      <td>84.000000</td>\n",
       "      <td>0.000000</td>\n",
       "      <td>10570.000000</td>\n",
       "      <td>0.000000</td>\n",
       "      <td>0.000000</td>\n",
       "      <td>0.000000</td>\n",
       "      <td>0.000000</td>\n",
       "      <td>0.000000</td>\n",
       "    </tr>\n",
       "    <tr>\n",
       "      <th>50%</th>\n",
       "      <td>0.000000</td>\n",
       "      <td>27.500000</td>\n",
       "      <td>1.000000</td>\n",
       "      <td>1.000000</td>\n",
       "      <td>4.000000</td>\n",
       "      <td>4034.000000</td>\n",
       "      <td>95.000000</td>\n",
       "      <td>266.000000</td>\n",
       "      <td>11690.000000</td>\n",
       "      <td>0.000000</td>\n",
       "      <td>0.000000</td>\n",
       "      <td>0.000000</td>\n",
       "      <td>0.000000</td>\n",
       "      <td>0.000000</td>\n",
       "    </tr>\n",
       "    <tr>\n",
       "      <th>75%</th>\n",
       "      <td>1.000000</td>\n",
       "      <td>40.890000</td>\n",
       "      <td>1.000000</td>\n",
       "      <td>2.000000</td>\n",
       "      <td>4.200000</td>\n",
       "      <td>4801.000000</td>\n",
       "      <td>101.000000</td>\n",
       "      <td>554.000000</td>\n",
       "      <td>12880.000000</td>\n",
       "      <td>1.000000</td>\n",
       "      <td>0.000000</td>\n",
       "      <td>0.000000</td>\n",
       "      <td>0.000000</td>\n",
       "      <td>1.000000</td>\n",
       "    </tr>\n",
       "    <tr>\n",
       "      <th>max</th>\n",
       "      <td>1.000000</td>\n",
       "      <td>91.829993</td>\n",
       "      <td>2.587788</td>\n",
       "      <td>2.000000</td>\n",
       "      <td>5.000000</td>\n",
       "      <td>9687.000000</td>\n",
       "      <td>149.233295</td>\n",
       "      <td>963.000000</td>\n",
       "      <td>15470.000000</td>\n",
       "      <td>1.000000</td>\n",
       "      <td>1.000000</td>\n",
       "      <td>1.000000</td>\n",
       "      <td>1.000000</td>\n",
       "      <td>1.000000</td>\n",
       "    </tr>\n",
       "  </tbody>\n",
       "</table>\n",
       "</div>"
      ],
      "text/plain": [
       "           Успех  Торговельна_площа_кв_м  Количество_касс        Тип  \\\n",
       "count  67.000000               67.000000        67.000000  67.000000   \n",
       "mean    0.358209               33.274746         1.217728   1.298507   \n",
       "std     0.483093               17.631170         0.432486   0.492825   \n",
       "min     0.000000                4.000000         1.000000   0.000000   \n",
       "25%     0.000000               21.750000         1.000000   1.000000   \n",
       "50%     0.000000               27.500000         1.000000   1.000000   \n",
       "75%     1.000000               40.890000         1.000000   2.000000   \n",
       "max     1.000000               91.829993         2.587788   2.000000   \n",
       "\n",
       "       Рейтинг_в_гуглі  Количество_чеков  Средний_чек   Населення  \\\n",
       "count        67.000000         67.000000    67.000000   67.000000   \n",
       "mean          3.792537       4033.716418    95.048258  304.343284   \n",
       "std           0.698117       2219.394053    16.934855  311.679301   \n",
       "min           1.800000        476.000000    65.000000    0.000000   \n",
       "25%           3.000000       2205.500000    84.000000    0.000000   \n",
       "50%           4.000000       4034.000000    95.000000  266.000000   \n",
       "75%           4.200000       4801.000000   101.000000  554.000000   \n",
       "max           5.000000       9687.000000   149.233295  963.000000   \n",
       "\n",
       "       Середній_дохід_населення  Спец_мясо   Спец_сир  Спец_поб_хімія  \\\n",
       "count                 67.000000  67.000000  67.000000       67.000000   \n",
       "mean               11765.671642   0.283582   0.223881        0.238806   \n",
       "std                 1570.517791   0.454138   0.419989        0.429572   \n",
       "min                 9030.000000   0.000000   0.000000        0.000000   \n",
       "25%                10570.000000   0.000000   0.000000        0.000000   \n",
       "50%                11690.000000   0.000000   0.000000        0.000000   \n",
       "75%                12880.000000   1.000000   0.000000        0.000000   \n",
       "max                15470.000000   1.000000   1.000000        1.000000   \n",
       "\n",
       "       Супермаркет  Магазин_біля_дому  \n",
       "count    67.000000          67.000000  \n",
       "mean      0.208955           0.313433  \n",
       "std       0.409631           0.467390  \n",
       "min       0.000000           0.000000  \n",
       "25%       0.000000           0.000000  \n",
       "50%       0.000000           0.000000  \n",
       "75%       0.000000           1.000000  \n",
       "max       1.000000           1.000000  "
      ]
     },
     "execution_count": 62,
     "metadata": {},
     "output_type": "execute_result"
    }
   ],
   "source": [
    "df.describe()"
   ]
  },
  {
   "cell_type": "code",
   "execution_count": 63,
   "id": "9306afa0",
   "metadata": {},
   "outputs": [],
   "source": [
    "# Feature Scaling\n",
    "from sklearn.preprocessing import MinMaxScaler\n",
    "sc = MinMaxScaler().fit(df)\n",
    "df = sc.transform(df)\n",
    "df = pd.DataFrame(df, columns = ['Успех','Торговельна_площа_кв_м','Количество_касс','Тип','Рейтинг_в_гуглі','Количество_чеков','Средний_чек','Населення','Середній_дохід_населення','Спец_мясо','Спец_сир','Спец_поб_хімія','Супермаркет','Магазин_біля_дому']).round()"
   ]
  },
  {
   "cell_type": "code",
   "execution_count": 64,
   "id": "2cb9d031",
   "metadata": {},
   "outputs": [
    {
     "data": {
      "text/html": [
       "<div>\n",
       "<style scoped>\n",
       "    .dataframe tbody tr th:only-of-type {\n",
       "        vertical-align: middle;\n",
       "    }\n",
       "\n",
       "    .dataframe tbody tr th {\n",
       "        vertical-align: top;\n",
       "    }\n",
       "\n",
       "    .dataframe thead th {\n",
       "        text-align: right;\n",
       "    }\n",
       "</style>\n",
       "<table border=\"1\" class=\"dataframe\">\n",
       "  <thead>\n",
       "    <tr style=\"text-align: right;\">\n",
       "      <th></th>\n",
       "      <th>Успех</th>\n",
       "      <th>Торговельна_площа_кв_м</th>\n",
       "      <th>Количество_касс</th>\n",
       "      <th>Тип</th>\n",
       "      <th>Рейтинг_в_гуглі</th>\n",
       "      <th>Количество_чеков</th>\n",
       "      <th>Средний_чек</th>\n",
       "      <th>Населення</th>\n",
       "      <th>Середній_дохід_населення</th>\n",
       "      <th>Спец_мясо</th>\n",
       "      <th>Спец_сир</th>\n",
       "      <th>Спец_поб_хімія</th>\n",
       "      <th>Супермаркет</th>\n",
       "      <th>Магазин_біля_дому</th>\n",
       "    </tr>\n",
       "  </thead>\n",
       "  <tbody>\n",
       "    <tr>\n",
       "      <th>0</th>\n",
       "      <td>0.0</td>\n",
       "      <td>0.0</td>\n",
       "      <td>0.0</td>\n",
       "      <td>1.0</td>\n",
       "      <td>0.0</td>\n",
       "      <td>0.0</td>\n",
       "      <td>0.0</td>\n",
       "      <td>0.0</td>\n",
       "      <td>1.0</td>\n",
       "      <td>1.0</td>\n",
       "      <td>1.0</td>\n",
       "      <td>0.0</td>\n",
       "      <td>1.0</td>\n",
       "      <td>1.0</td>\n",
       "    </tr>\n",
       "    <tr>\n",
       "      <th>1</th>\n",
       "      <td>0.0</td>\n",
       "      <td>0.0</td>\n",
       "      <td>0.0</td>\n",
       "      <td>1.0</td>\n",
       "      <td>1.0</td>\n",
       "      <td>0.0</td>\n",
       "      <td>0.0</td>\n",
       "      <td>1.0</td>\n",
       "      <td>0.0</td>\n",
       "      <td>0.0</td>\n",
       "      <td>0.0</td>\n",
       "      <td>0.0</td>\n",
       "      <td>1.0</td>\n",
       "      <td>1.0</td>\n",
       "    </tr>\n",
       "    <tr>\n",
       "      <th>2</th>\n",
       "      <td>0.0</td>\n",
       "      <td>0.0</td>\n",
       "      <td>0.0</td>\n",
       "      <td>1.0</td>\n",
       "      <td>0.0</td>\n",
       "      <td>0.0</td>\n",
       "      <td>1.0</td>\n",
       "      <td>0.0</td>\n",
       "      <td>0.0</td>\n",
       "      <td>0.0</td>\n",
       "      <td>0.0</td>\n",
       "      <td>0.0</td>\n",
       "      <td>0.0</td>\n",
       "      <td>0.0</td>\n",
       "    </tr>\n",
       "    <tr>\n",
       "      <th>3</th>\n",
       "      <td>0.0</td>\n",
       "      <td>0.0</td>\n",
       "      <td>0.0</td>\n",
       "      <td>1.0</td>\n",
       "      <td>0.0</td>\n",
       "      <td>0.0</td>\n",
       "      <td>1.0</td>\n",
       "      <td>0.0</td>\n",
       "      <td>1.0</td>\n",
       "      <td>1.0</td>\n",
       "      <td>0.0</td>\n",
       "      <td>0.0</td>\n",
       "      <td>1.0</td>\n",
       "      <td>1.0</td>\n",
       "    </tr>\n",
       "    <tr>\n",
       "      <th>4</th>\n",
       "      <td>0.0</td>\n",
       "      <td>0.0</td>\n",
       "      <td>0.0</td>\n",
       "      <td>0.0</td>\n",
       "      <td>1.0</td>\n",
       "      <td>0.0</td>\n",
       "      <td>0.0</td>\n",
       "      <td>0.0</td>\n",
       "      <td>1.0</td>\n",
       "      <td>0.0</td>\n",
       "      <td>0.0</td>\n",
       "      <td>0.0</td>\n",
       "      <td>0.0</td>\n",
       "      <td>0.0</td>\n",
       "    </tr>\n",
       "    <tr>\n",
       "      <th>...</th>\n",
       "      <td>...</td>\n",
       "      <td>...</td>\n",
       "      <td>...</td>\n",
       "      <td>...</td>\n",
       "      <td>...</td>\n",
       "      <td>...</td>\n",
       "      <td>...</td>\n",
       "      <td>...</td>\n",
       "      <td>...</td>\n",
       "      <td>...</td>\n",
       "      <td>...</td>\n",
       "      <td>...</td>\n",
       "      <td>...</td>\n",
       "      <td>...</td>\n",
       "    </tr>\n",
       "    <tr>\n",
       "      <th>62</th>\n",
       "      <td>1.0</td>\n",
       "      <td>0.0</td>\n",
       "      <td>1.0</td>\n",
       "      <td>0.0</td>\n",
       "      <td>1.0</td>\n",
       "      <td>1.0</td>\n",
       "      <td>0.0</td>\n",
       "      <td>1.0</td>\n",
       "      <td>0.0</td>\n",
       "      <td>0.0</td>\n",
       "      <td>0.0</td>\n",
       "      <td>1.0</td>\n",
       "      <td>0.0</td>\n",
       "      <td>0.0</td>\n",
       "    </tr>\n",
       "    <tr>\n",
       "      <th>63</th>\n",
       "      <td>1.0</td>\n",
       "      <td>0.0</td>\n",
       "      <td>0.0</td>\n",
       "      <td>0.0</td>\n",
       "      <td>0.0</td>\n",
       "      <td>0.0</td>\n",
       "      <td>0.0</td>\n",
       "      <td>0.0</td>\n",
       "      <td>1.0</td>\n",
       "      <td>1.0</td>\n",
       "      <td>1.0</td>\n",
       "      <td>1.0</td>\n",
       "      <td>0.0</td>\n",
       "      <td>0.0</td>\n",
       "    </tr>\n",
       "    <tr>\n",
       "      <th>64</th>\n",
       "      <td>0.0</td>\n",
       "      <td>1.0</td>\n",
       "      <td>0.0</td>\n",
       "      <td>1.0</td>\n",
       "      <td>0.0</td>\n",
       "      <td>0.0</td>\n",
       "      <td>0.0</td>\n",
       "      <td>0.0</td>\n",
       "      <td>0.0</td>\n",
       "      <td>0.0</td>\n",
       "      <td>0.0</td>\n",
       "      <td>0.0</td>\n",
       "      <td>0.0</td>\n",
       "      <td>1.0</td>\n",
       "    </tr>\n",
       "    <tr>\n",
       "      <th>65</th>\n",
       "      <td>0.0</td>\n",
       "      <td>0.0</td>\n",
       "      <td>1.0</td>\n",
       "      <td>0.0</td>\n",
       "      <td>1.0</td>\n",
       "      <td>0.0</td>\n",
       "      <td>1.0</td>\n",
       "      <td>0.0</td>\n",
       "      <td>1.0</td>\n",
       "      <td>1.0</td>\n",
       "      <td>1.0</td>\n",
       "      <td>0.0</td>\n",
       "      <td>0.0</td>\n",
       "      <td>0.0</td>\n",
       "    </tr>\n",
       "    <tr>\n",
       "      <th>66</th>\n",
       "      <td>1.0</td>\n",
       "      <td>0.0</td>\n",
       "      <td>0.0</td>\n",
       "      <td>0.0</td>\n",
       "      <td>1.0</td>\n",
       "      <td>0.0</td>\n",
       "      <td>0.0</td>\n",
       "      <td>1.0</td>\n",
       "      <td>0.0</td>\n",
       "      <td>1.0</td>\n",
       "      <td>1.0</td>\n",
       "      <td>0.0</td>\n",
       "      <td>0.0</td>\n",
       "      <td>0.0</td>\n",
       "    </tr>\n",
       "  </tbody>\n",
       "</table>\n",
       "<p>67 rows × 14 columns</p>\n",
       "</div>"
      ],
      "text/plain": [
       "    Успех  Торговельна_площа_кв_м  Количество_касс  Тип  Рейтинг_в_гуглі  \\\n",
       "0     0.0                     0.0              0.0  1.0              0.0   \n",
       "1     0.0                     0.0              0.0  1.0              1.0   \n",
       "2     0.0                     0.0              0.0  1.0              0.0   \n",
       "3     0.0                     0.0              0.0  1.0              0.0   \n",
       "4     0.0                     0.0              0.0  0.0              1.0   \n",
       "..    ...                     ...              ...  ...              ...   \n",
       "62    1.0                     0.0              1.0  0.0              1.0   \n",
       "63    1.0                     0.0              0.0  0.0              0.0   \n",
       "64    0.0                     1.0              0.0  1.0              0.0   \n",
       "65    0.0                     0.0              1.0  0.0              1.0   \n",
       "66    1.0                     0.0              0.0  0.0              1.0   \n",
       "\n",
       "    Количество_чеков  Средний_чек  Населення  Середній_дохід_населення  \\\n",
       "0                0.0          0.0        0.0                       1.0   \n",
       "1                0.0          0.0        1.0                       0.0   \n",
       "2                0.0          1.0        0.0                       0.0   \n",
       "3                0.0          1.0        0.0                       1.0   \n",
       "4                0.0          0.0        0.0                       1.0   \n",
       "..               ...          ...        ...                       ...   \n",
       "62               1.0          0.0        1.0                       0.0   \n",
       "63               0.0          0.0        0.0                       1.0   \n",
       "64               0.0          0.0        0.0                       0.0   \n",
       "65               0.0          1.0        0.0                       1.0   \n",
       "66               0.0          0.0        1.0                       0.0   \n",
       "\n",
       "    Спец_мясо  Спец_сир  Спец_поб_хімія  Супермаркет  Магазин_біля_дому  \n",
       "0         1.0       1.0             0.0          1.0                1.0  \n",
       "1         0.0       0.0             0.0          1.0                1.0  \n",
       "2         0.0       0.0             0.0          0.0                0.0  \n",
       "3         1.0       0.0             0.0          1.0                1.0  \n",
       "4         0.0       0.0             0.0          0.0                0.0  \n",
       "..        ...       ...             ...          ...                ...  \n",
       "62        0.0       0.0             1.0          0.0                0.0  \n",
       "63        1.0       1.0             1.0          0.0                0.0  \n",
       "64        0.0       0.0             0.0          0.0                1.0  \n",
       "65        1.0       1.0             0.0          0.0                0.0  \n",
       "66        1.0       1.0             0.0          0.0                0.0  \n",
       "\n",
       "[67 rows x 14 columns]"
      ]
     },
     "execution_count": 64,
     "metadata": {},
     "output_type": "execute_result"
    }
   ],
   "source": [
    "df"
   ]
  },
  {
   "cell_type": "code",
   "execution_count": 65,
   "id": "1a66484c",
   "metadata": {},
   "outputs": [
    {
     "data": {
      "image/png": "[encoded data removed]",
      "text/plain": [
       "<Figure size 864x648 with 2 Axes>"
      ]
     },
     "metadata": {
      "needs_background": "light"
     },
     "output_type": "display_data"
    }
   ],
   "source": [
    "# Cheking correlations\n",
    "import seaborn as sns\n",
    "corrmat = df.corr()\n",
    "f, ax = plt.subplots(figsize=(12, 9))\n",
    "sns.heatmap(corrmat, annot=True)\n",
    "plt.show()"
   ]
  },
  {
   "cell_type": "markdown",
   "id": "828488cf",
   "metadata": {},
   "source": [
    "# Number of clusters"
   ]
  },
  {
   "cell_type": "code",
   "execution_count": 66,
   "id": "869a390f",
   "metadata": {},
   "outputs": [
    {
     "data": {
      "image/png": "[encoded data removed]",
      "text/plain": [
       "<Figure size 432x288 with 1 Axes>"
      ]
     },
     "metadata": {
      "needs_background": "light"
     },
     "output_type": "display_data"
    }
   ],
   "source": [
    "# Using the dendrogram to find the optimal number of clusters\n",
    "import scipy.cluster.hierarchy as sch\n",
    "dendrogram = sch.dendrogram(sch.linkage(df, method = 'ward'))\n",
    "plt.title('Dendrogram')\n",
    "plt.xlabel('Customers')\n",
    "plt.ylabel('Euclidean distances')\n",
    "plt.show()"
   ]
  },
  {
   "cell_type": "markdown",
   "id": "03b3dfe7",
   "metadata": {},
   "source": [
    "# Baseline model"
   ]
  },
  {
   "cell_type": "code",
   "execution_count": 67,
   "id": "7f796930",
   "metadata": {},
   "outputs": [],
   "source": [
    "# Fitting Hierarchical Clustering to the dataset\n",
    "from sklearn.cluster import AgglomerativeClustering\n",
    "hc = AgglomerativeClustering(n_clusters = 6, affinity = 'euclidean', linkage = 'ward').fit_predict(df)"
   ]
  },
  {
   "cell_type": "code",
   "execution_count": 68,
   "id": "63df8ba8",
   "metadata": {},
   "outputs": [
    {
     "data": {
      "text/plain": [
       "array([0, 2, 0, 0, 4, 3, 2, 1, 0, 4, 4, 1, 5, 4, 0, 5, 2, 4, 0, 4, 3, 2,\n",
       "       1, 4, 0, 0, 2, 1, 4, 4, 1, 2, 3, 4, 2, 0, 0, 2, 2, 1, 5, 1, 5, 0,\n",
       "       0, 5, 4, 1, 1, 2, 1, 2, 4, 3, 3, 4, 4, 2, 0, 1, 1, 4, 1, 3, 0, 3,\n",
       "       2], dtype=int32)"
      ]
     },
     "execution_count": 68,
     "metadata": {},
     "output_type": "execute_result"
    }
   ],
   "source": [
    "hc"
   ]
  },
  {
   "cell_type": "markdown",
   "id": "e4a35fe8",
   "metadata": {},
   "source": [
    "# Feature Reduction"
   ]
  },
  {
   "cell_type": "code",
   "execution_count": 69,
   "id": "4645110d",
   "metadata": {},
   "outputs": [],
   "source": [
    "# Less features\n",
    "X = df.iloc[:, [0, 2, 5]]"
   ]
  },
  {
   "cell_type": "code",
   "execution_count": 70,
   "id": "bc6408b2",
   "metadata": {},
   "outputs": [
    {
     "data": {
      "image/png": "[encoded data removed]",
      "text/plain": [
       "<Figure size 432x288 with 1 Axes>"
      ]
     },
     "metadata": {
      "needs_background": "light"
     },
     "output_type": "display_data"
    }
   ],
   "source": [
    "# Using the dendrogram to find the optimal number of clusters\n",
    "import scipy.cluster.hierarchy as sch\n",
    "dendrogram = sch.dendrogram(sch.linkage(X, method = 'ward'))\n",
    "plt.title('Dendrogram')\n",
    "plt.xlabel('Customers')\n",
    "plt.ylabel('Euclidean distances')\n",
    "plt.show()"
   ]
  },
  {
   "cell_type": "code",
   "execution_count": 71,
   "id": "bdeb3fbe",
   "metadata": {},
   "outputs": [],
   "source": [
    "# Fitting Hierarchical Clustering to the dataset\n",
    "from sklearn.cluster import AgglomerativeClustering\n",
    "hc = AgglomerativeClustering(n_clusters = 2, affinity = 'euclidean', linkage = 'ward').fit_predict(df)"
   ]
  },
  {
   "cell_type": "markdown",
   "id": "571cba04",
   "metadata": {},
   "source": [
    "# K-Means Clustering"
   ]
  },
  {
   "cell_type": "code",
   "execution_count": 72,
   "id": "1b758a91",
   "metadata": {},
   "outputs": [
    {
     "data": {
      "image/png": "[encoded data removed]",
      "text/plain": [
       "<Figure size 432x288 with 1 Axes>"
      ]
     },
     "metadata": {
      "needs_background": "light"
     },
     "output_type": "display_data"
    }
   ],
   "source": [
    "from sklearn.cluster import KMeans\n",
    "wcss = []\n",
    "for i in range(1, 11):\n",
    "    kmeans = KMeans(n_clusters = i, init = 'k-means++', random_state = 0)\n",
    "    kmeans.fit(df)\n",
    "    wcss.append(kmeans.inertia_)\n",
    "\n",
    "plt.plot(range(1, 11), wcss)\n",
    "plt.title('The Elbow Method')\n",
    "plt.xlabel('Number of clusters')\n",
    "plt.ylabel('WCSS')\n",
    "plt.show()"
   ]
  },
  {
   "cell_type": "code",
   "execution_count": 73,
   "id": "b5307a41",
   "metadata": {},
   "outputs": [],
   "source": [
    "# Наибольшая скорость падения наблюдается при выделении 2 кластеров. Но также ещё один локоть наблюдается при выделении 4 кластеров. "
   ]
  },
  {
   "cell_type": "code",
   "execution_count": 74,
   "id": "0ff55443",
   "metadata": {},
   "outputs": [
    {
     "data": {
      "image/png": "[encoded data removed]",
      "text/plain": [
       "<Figure size 432x288 with 1 Axes>"
      ]
     },
     "metadata": {
      "needs_background": "light"
     },
     "output_type": "display_data"
    },
    {
     "name": "stdout",
     "output_type": "stream",
     "text": [
      "2:0.199986759978674\n",
      "3:0.1548009750507624\n",
      "4:0.1425419622537135\n",
      "5:0.15972229870550786\n"
     ]
    }
   ],
   "source": [
    "# Using the silhouette method to find the optimal number of clusters\n",
    "from sklearn.metrics import silhouette_score\n",
    "\n",
    "sil = []\n",
    "\n",
    "for k in range(2, 6):\n",
    "  kmeans = KMeans(n_clusters = k).fit(df)  \n",
    "  preds = kmeans.fit_predict(df)\n",
    "  sil.append(silhouette_score(df, preds, metric = 'euclidean'))\n",
    "\n",
    "\n",
    "plt.plot(range(2, 6), sil)\n",
    "plt.title('Silhouette Method')\n",
    "plt.xlabel('Number of clusters')\n",
    "plt.ylabel('Sil')\n",
    "plt.show()\n",
    "\n",
    "for i in range(len(sil)):\n",
    " print(str(i+2) +\":\"+ str(sil[i]))"
   ]
  },
  {
   "cell_type": "code",
   "execution_count": 75,
   "id": "c6e047d5",
   "metadata": {},
   "outputs": [],
   "source": [
    "# Максимум этого показателя достигается на 2 кластерах."
   ]
  },
  {
   "cell_type": "markdown",
   "id": "bf9e80bd",
   "metadata": {},
   "source": [
    "# Model"
   ]
  },
  {
   "cell_type": "code",
   "execution_count": 76,
   "id": "1017d1eb",
   "metadata": {},
   "outputs": [
    {
     "data": {
      "text/html": [
       "<div>\n",
       "<style scoped>\n",
       "    .dataframe tbody tr th:only-of-type {\n",
       "        vertical-align: middle;\n",
       "    }\n",
       "\n",
       "    .dataframe tbody tr th {\n",
       "        vertical-align: top;\n",
       "    }\n",
       "\n",
       "    .dataframe thead th {\n",
       "        text-align: right;\n",
       "    }\n",
       "</style>\n",
       "<table border=\"1\" class=\"dataframe\">\n",
       "  <thead>\n",
       "    <tr style=\"text-align: right;\">\n",
       "      <th></th>\n",
       "      <th>Успех</th>\n",
       "      <th>Торговельна_площа_кв_м</th>\n",
       "      <th>Количество_касс</th>\n",
       "      <th>Тип</th>\n",
       "      <th>Рейтинг_в_гуглі</th>\n",
       "      <th>Количество_чеков</th>\n",
       "      <th>Средний_чек</th>\n",
       "      <th>Населення</th>\n",
       "      <th>Середній_дохід_населення</th>\n",
       "      <th>Спец_мясо</th>\n",
       "      <th>Спец_сир</th>\n",
       "      <th>Спец_поб_хімія</th>\n",
       "      <th>Супермаркет</th>\n",
       "      <th>Магазин_біля_дому</th>\n",
       "    </tr>\n",
       "  </thead>\n",
       "  <tbody>\n",
       "    <tr>\n",
       "      <th>0</th>\n",
       "      <td>0.17</td>\n",
       "      <td>0.15</td>\n",
       "      <td>0.06</td>\n",
       "      <td>0.38</td>\n",
       "      <td>0.63</td>\n",
       "      <td>0.02</td>\n",
       "      <td>0.06</td>\n",
       "      <td>0.27</td>\n",
       "      <td>0.42</td>\n",
       "      <td>0.29</td>\n",
       "      <td>0.27</td>\n",
       "      <td>0.21</td>\n",
       "      <td>0.23</td>\n",
       "      <td>0.29</td>\n",
       "    </tr>\n",
       "    <tr>\n",
       "      <th>1</th>\n",
       "      <td>1.00</td>\n",
       "      <td>0.20</td>\n",
       "      <td>0.73</td>\n",
       "      <td>0.07</td>\n",
       "      <td>0.87</td>\n",
       "      <td>0.93</td>\n",
       "      <td>0.60</td>\n",
       "      <td>0.47</td>\n",
       "      <td>0.07</td>\n",
       "      <td>0.27</td>\n",
       "      <td>0.07</td>\n",
       "      <td>0.33</td>\n",
       "      <td>0.13</td>\n",
       "      <td>0.40</td>\n",
       "    </tr>\n",
       "  </tbody>\n",
       "</table>\n",
       "</div>"
      ],
      "text/plain": [
       "   Успех  Торговельна_площа_кв_м  Количество_касс   Тип  Рейтинг_в_гуглі  \\\n",
       "0   0.17                    0.15             0.06  0.38             0.63   \n",
       "1   1.00                    0.20             0.73  0.07             0.87   \n",
       "\n",
       "   Количество_чеков  Средний_чек  Населення  Середній_дохід_населення  \\\n",
       "0              0.02         0.06       0.27                      0.42   \n",
       "1              0.93         0.60       0.47                      0.07   \n",
       "\n",
       "   Спец_мясо  Спец_сир  Спец_поб_хімія  Супермаркет  Магазин_біля_дому  \n",
       "0       0.29      0.27            0.21         0.23               0.29  \n",
       "1       0.27      0.07            0.33         0.13               0.40  "
      ]
     },
     "execution_count": 76,
     "metadata": {},
     "output_type": "execute_result"
    }
   ],
   "source": [
    "# Fitting K-Means to the dataset\n",
    "km = KMeans(n_clusters = 2, init = 'k-means++', random_state = 0).fit_predict(df)\n",
    "kms = KMeans(n_clusters = 2, random_state = 0).fit(df)\n",
    "pd.DataFrame(kms.cluster_centers_, columns = ['Успех','Торговельна_площа_кв_м','Количество_касс','Тип','Рейтинг_в_гуглі','Количество_чеков','Средний_чек','Населення','Середній_дохід_населення','Спец_мясо','Спец_сир','Спец_поб_хімія','Супермаркет','Магазин_біля_дому']).round(2)"
   ]
  },
  {
   "cell_type": "markdown",
   "id": "5cb7bb87",
   "metadata": {},
   "source": [
    "# Feature Reduction"
   ]
  },
  {
   "cell_type": "code",
   "execution_count": 77,
   "id": "2bbdab04",
   "metadata": {},
   "outputs": [],
   "source": [
    "# Less features\n",
    "X = df.iloc[:, [0, 2, 5]]"
   ]
  },
  {
   "cell_type": "code",
   "execution_count": 78,
   "id": "f813e298",
   "metadata": {},
   "outputs": [
    {
     "data": {
      "text/html": [
       "<div>\n",
       "<style scoped>\n",
       "    .dataframe tbody tr th:only-of-type {\n",
       "        vertical-align: middle;\n",
       "    }\n",
       "\n",
       "    .dataframe tbody tr th {\n",
       "        vertical-align: top;\n",
       "    }\n",
       "\n",
       "    .dataframe thead th {\n",
       "        text-align: right;\n",
       "    }\n",
       "</style>\n",
       "<table border=\"1\" class=\"dataframe\">\n",
       "  <thead>\n",
       "    <tr style=\"text-align: right;\">\n",
       "      <th></th>\n",
       "      <th>Успех</th>\n",
       "      <th>Количество_касс</th>\n",
       "      <th>Количество_чеков</th>\n",
       "    </tr>\n",
       "  </thead>\n",
       "  <tbody>\n",
       "    <tr>\n",
       "      <th>0</th>\n",
       "      <td>0.0</td>\n",
       "      <td>0.0</td>\n",
       "      <td>-0.0</td>\n",
       "    </tr>\n",
       "    <tr>\n",
       "      <th>1</th>\n",
       "      <td>1.0</td>\n",
       "      <td>1.0</td>\n",
       "      <td>1.0</td>\n",
       "    </tr>\n",
       "  </tbody>\n",
       "</table>\n",
       "</div>"
      ],
      "text/plain": [
       "   Успех  Количество_касс  Количество_чеков\n",
       "0    0.0              0.0              -0.0\n",
       "1    1.0              1.0               1.0"
      ]
     },
     "execution_count": 78,
     "metadata": {},
     "output_type": "execute_result"
    }
   ],
   "source": [
    "# Fitting K-Means to the dataset\n",
    "km = KMeans(n_clusters = 2, init = 'k-means++', random_state = 0).fit_predict(X)\n",
    "kms = KMeans(n_clusters = 2, random_state = 0).fit(X)\n",
    "pd.DataFrame(kms.cluster_centers_, columns = ['Успех','Количество_касс','Количество_чеков']).round()"
   ]
  },
  {
   "cell_type": "code",
   "execution_count": 79,
   "id": "3c9396df",
   "metadata": {},
   "outputs": [],
   "source": [
    "# Торговая точка будет успешна при наличии 2-х касс и количества чеков свыше примерно 6500. "
   ]
  },
  {
   "cell_type": "code",
   "execution_count": 80,
   "id": "238fc83f",
   "metadata": {},
   "outputs": [
    {
     "data": {
      "text/plain": [
       "0.7446018531506036"
      ]
     },
     "execution_count": 80,
     "metadata": {},
     "output_type": "execute_result"
    }
   ],
   "source": [
    "# Comparing Clustering Algorithms\n",
    "from sklearn.metrics.cluster import adjusted_rand_score\n",
    "adjusted_rand_score(hc,km)"
   ]
  },
  {
   "cell_type": "code",
   "execution_count": 81,
   "id": "e92d3bc9",
   "metadata": {},
   "outputs": [],
   "source": [
    "# Результаты иерархической кластеризации пересекаются на 74% с результатами кластеризации на основе К-средних. "
   ]
  },
  {
   "cell_type": "code",
   "execution_count": null,
   "id": "9d247c74",
   "metadata": {},
   "outputs": [],
   "source": []
  }
 ],
 "metadata": {
  "kernelspec": {
   "display_name": "Python 3",
   "language": "python",
   "name": "python3"
  },
  "language_info": {
   "codemirror_mode": {
    "name": "ipython",
    "version": 3
   },
   "file_extension": ".py",
   "mimetype": "text/x-python",
   "name": "python",
   "nbconvert_exporter": "python",
   "pygments_lexer": "ipython3",
   "version": "3.8.8"
  }
 },
 "nbformat": 4,
 "nbformat_minor": 5
}
